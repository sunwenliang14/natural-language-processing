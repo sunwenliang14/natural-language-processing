{
 "cells": [
  {
   "cell_type": "code",
   "execution_count": 1,
   "metadata": {},
   "outputs": [],
   "source": [
    "from requests import get\n",
    "from bs4 import BeautifulSoup\n",
    "import os\n",
    "import pandas as pd\n",
    "import re\n",
    "import numpy as np"
   ]
  },
  {
   "cell_type": "code",
   "execution_count": 2,
   "metadata": {},
   "outputs": [],
   "source": [
    "url = 'https://codeup.com/codeups-data-science-career-accelerator-is-here/'\n",
    "headers = {'User-Agent': 'Codeup Data Science'} \n",
    "response = get(url, headers=headers)"
   ]
  },
  {
   "cell_type": "code",
   "execution_count": 3,
   "metadata": {},
   "outputs": [
    {
     "name": "stdout",
     "output_type": "stream",
     "text": [
      "<!DOCTYPE html><html lang=\"en-US\"><head ><meta charset=\"UTF-8\" /><meta name=\"viewport\" content=\"width=device-width, initial-scale=1\" /> <script>function fvmuag(){if(navigator.userAgent.match(/x11.*fox\\/54|oid\\s4.*xus.*ome\\/62|oobot|ighth|tmetr|eadles|ingdo/i))return!1;if(navigator.userAgent.match(/x\n"
     ]
    }
   ],
   "source": [
    "print(response.text[:300])"
   ]
  },
  {
   "cell_type": "code",
   "execution_count": 4,
   "metadata": {},
   "outputs": [
    {
     "name": "stdout",
     "output_type": "stream",
     "text": [
      "b'<!DOCTYPE html><html lang=\"en-US\"><head ><meta charset=\"UTF-8\" /><meta name=\"viewport\" content=\"width=device-width, initial-scale=1\" /> <script>function fvmuag(){if(navigator.userAgent.match(/x11.*fox\\\\/54|oid\\\\s4.*xus.*ome\\\\/62|oobot|ighth|tmetr|eadles|ingdo/i))return!1;if(navigator.userAgent.match(/x'\n"
     ]
    }
   ],
   "source": [
    "print(response.content[:300])"
   ]
  },
  {
   "cell_type": "code",
   "execution_count": 5,
   "metadata": {},
   "outputs": [],
   "source": [
    "# Make a soup variable holding the response content\n",
    "soup = BeautifulSoup(response.content, 'html.parser')"
   ]
  },
  {
   "cell_type": "code",
   "execution_count": 6,
   "metadata": {},
   "outputs": [
    {
     "data": {
      "text/plain": [
       "'Codeup’s Data Science Career Accelerator is Here! - Codeup'"
      ]
     },
     "execution_count": 6,
     "metadata": {},
     "output_type": "execute_result"
    }
   ],
   "source": [
    "#soup.title.string gets the page's title (the same text in the browser tab for a page, this is the <title> element\n",
    "soup.title.string"
   ]
  },
  {
   "cell_type": "code",
   "execution_count": 7,
   "metadata": {},
   "outputs": [
    {
     "data": {
      "text/plain": [
       "'<!DOCTYPE html>\\n<html lang=\"en-US\">\\n <head>\\n  <meta charset=\"utf-8\"/>\\n  <meta content=\"width=device-width, initial-scale=1\" name=\"viewport\"/>\\n  <script>\\n   function fvmuag(){if(navigator.userAgent.match(/x11.*fox\\\\/54|oid\\\\s4.*xus.*ome\\\\/62|oobot|ighth|tmetr|eadles|ingdo/i))return!1;if(navigator.userAgent.match(/x11.*ome\\\\/75\\\\.0\\\\.3770\\\\.100/i)){var e=screen.width,t=screen.height;if(\"number\"==typeof e&&\"number\"==typeof t&&862==t&&1367==e)return!1}return!0}\\n  </script>\\n  <style id=\"aoatfcss\" media=\"all'"
      ]
     },
     "execution_count": 7,
     "metadata": {},
     "output_type": "execute_result"
    }
   ],
   "source": [
    "# soup.prettify() is useful to print in case you want to see the HTML\n",
    "soup.prettify()[:500]"
   ]
  },
  {
   "cell_type": "code",
   "execution_count": 8,
   "metadata": {},
   "outputs": [
    {
     "data": {
      "text/plain": [
       "[<a class=\"jupiterx-a11y jupiterx-a11y-skip-navigation-link\" href=\"#jupiterx-primary\">Skip to content</a>,\n",
       " <a class=\"raven-site-logo-link\" href=\"https://codeup.com\"> <img alt=\"Codeup\" class=\"raven-site-logo-desktop raven-site-logo-tablet raven-site-logo-mobile lazyload\" data-no-lazy=\"1\" data-sizes=\"(max-width: 226px) 100vw, 226px\" data-src=\"https://750092.smushcdn.com/1449913/wp-content/uploads/2018/08/logo.png?lossy=1&amp;strip=1&amp;webp=1\" data-srcset=\"https://750092.smushcdn.com/1449913/wp-content/uploads/2018/08/logo.png?lossy=1&amp;strip=1&amp;webp=1 226w, \" src=\"data:image/gif;base64,R0lGODlhAQABAAAAACH5BAEKAAEALAAAAAABAAEAAAICTAEAOw==\"/><noscript><img alt=\"Codeup\" class=\"raven-site-logo-desktop raven-site-logo-tablet raven-site-logo-mobile\" data-no-lazy=\"1\" sizes=\"(max-width: 226px) 100vw, 226px\" src=\"https://750092.smushcdn.com/1449913/wp-content/uploads/2018/08/logo.png?lossy=1&amp;strip=1&amp;webp=1\" srcset=\"https://750092.smushcdn.com/1449913/wp-content/uploads/2018/08/logo.png?lossy=1&amp;strip=1&amp;webp=1 226w, \"/></noscript> </a>,\n",
       " <a class=\"raven-menu-item raven-link-item\" href=\"https://codeup.com/student-page/\">Programs</a>,\n",
       " <a class=\"raven-submenu-item raven-link-item\" href=\"https://codeup.com/wd-admissions/\">Full Stack Web Development</a>,\n",
       " <a class=\"raven-submenu-item raven-link-item\" href=\"https://codeup.com/ds-admissions/\">Data Science</a>,\n",
       " <a class=\"raven-menu-item raven-link-item\" href=\"https://codeup.com/events/\">Events</a>,\n",
       " <a class=\"raven-menu-item raven-link-item\" href=\"#\">Locations</a>,\n",
       " <a class=\"raven-submenu-item raven-link-item\" href=\"https://codeup.com/sanantonio/\">San Antonio</a>,\n",
       " <a class=\"raven-submenu-item raven-link-item\" href=\"/dallas/\">Dallas</a>,\n",
       " <a class=\"raven-menu-item raven-link-item\" href=\"https://codeup.com/employer-partner/\">Employers</a>,\n",
       " <a class=\"raven-submenu-item raven-link-item\" href=\"https://alumni.codeup.com/\">Alumni</a>,\n",
       " <a class=\"raven-menu-item raven-link-item\" href=\"https://codeup.com/resources/\">Resources</a>,\n",
       " <a class=\"raven-submenu-item raven-link-item\" href=\"/resources/#outcomes\">Outcomes</a>,\n",
       " <a class=\"raven-submenu-item raven-link-item\" href=\"/resources/#blog\">Blog</a>,\n",
       " <a class=\"raven-submenu-item raven-link-item\" href=\"https://codeup.com/financial-aid/\">Financial Options</a>,\n",
       " <a class=\"raven-submenu-item raven-link-item\" href=\"https://codeup.com/frequently-asked-questions/\">Frequently Asked Questions</a>,\n",
       " <a class=\"raven-menu-item raven-link-item\" href=\"https://codeup.com/about-codeup/\">About</a>,\n",
       " <a class=\"raven-submenu-item raven-link-item\" href=\"https://codeup.com/careers/\">Careers</a>,\n",
       " <a class=\"raven-submenu-item raven-link-item\" href=\"https://codeup.com/contact/\">Contact</a>,\n",
       " <a class=\"raven-menu-item raven-link-item\" href=\"https://codeup.com/apply-now/\">Apply Now</a>,\n",
       " <a class=\"raven-menu-item raven-link-item\" href=\"https://codeup.com/student-page/\">Programs</a>,\n",
       " <a class=\"raven-submenu-item raven-link-item\" href=\"https://codeup.com/wd-admissions/\">Full Stack Web Development</a>,\n",
       " <a class=\"raven-submenu-item raven-link-item\" href=\"https://codeup.com/ds-admissions/\">Data Science</a>,\n",
       " <a class=\"raven-menu-item raven-link-item\" href=\"https://codeup.com/events/\">Events</a>,\n",
       " <a class=\"raven-menu-item raven-link-item\" href=\"#\">Locations</a>,\n",
       " <a class=\"raven-submenu-item raven-link-item\" href=\"https://codeup.com/sanantonio/\">San Antonio</a>,\n",
       " <a class=\"raven-submenu-item raven-link-item\" href=\"/dallas/\">Dallas</a>,\n",
       " <a class=\"raven-menu-item raven-link-item\" href=\"https://codeup.com/employer-partner/\">Employers</a>,\n",
       " <a class=\"raven-submenu-item raven-link-item\" href=\"https://alumni.codeup.com/\">Alumni</a>,\n",
       " <a class=\"raven-menu-item raven-link-item\" href=\"https://codeup.com/resources/\">Resources</a>,\n",
       " <a class=\"raven-submenu-item raven-link-item\" href=\"/resources/#outcomes\">Outcomes</a>,\n",
       " <a class=\"raven-submenu-item raven-link-item\" href=\"/resources/#blog\">Blog</a>,\n",
       " <a class=\"raven-submenu-item raven-link-item\" href=\"https://codeup.com/financial-aid/\">Financial Options</a>,\n",
       " <a class=\"raven-submenu-item raven-link-item\" href=\"https://codeup.com/frequently-asked-questions/\">Frequently Asked Questions</a>,\n",
       " <a class=\"raven-menu-item raven-link-item\" href=\"https://codeup.com/about-codeup/\">About</a>,\n",
       " <a class=\"raven-submenu-item raven-link-item\" href=\"https://codeup.com/careers/\">Careers</a>,\n",
       " <a class=\"raven-submenu-item raven-link-item\" href=\"https://codeup.com/contact/\">Contact</a>,\n",
       " <a class=\"raven-menu-item raven-link-item\" href=\"https://codeup.com/apply-now/\">Apply Now</a>,\n",
       " <a href=\"https://codeup.com/category/san-antonio/\" rel=\"category\">San Antonio</a>,\n",
       " <a href=\"https://www.glassdoor.com/List/Best-Jobs-in-America-LST_KQ0,20.htm\">Glassdoor’s #1 Best Job in America</a>,\n",
       " <a href=\"https://tribucodeup.wpengine.com/what-is-data-science/\"><strong>Data Science is a method of providing actionable intelligence from data.</strong></a>,\n",
       " <a href=\"https://www.indeed.com/jobs?q=Data+Scientist&amp;l=San+Antonio%2C+TX\">resulting in an explosion in Data Scientist positions</a>,\n",
       " <a href=\"https://therivardreport.com/utsa-lands-70m-for-cybersecurity-center-school-of-data-science/\">UTSA invest $70 M for a Cybersecurity Center and School of Data Science.</a>,\n",
       " <a aria-label=\"Share on Facebook\" class=\"jupiterx-social-share-link btn jupiterx-social-share-facebook\" href=\"https://facebook.com/sharer/sharer.php?u=https://codeup.com/codeups-data-science-career-accelerator-is-here/\" target=\"_blank\"><span class=\"jupiterx-icon jupiterx-icon-facebook-f\"></span><span class=\"jupiterx-social-share-link-name\">Facebook</span></a>,\n",
       " <a aria-label=\"Share on Twitter\" class=\"jupiterx-social-share-link btn jupiterx-social-share-twitter\" href=\"https://twitter.com/intent/tweet/?text=Codeup’s%20Data%20Science%20Career%20Accelerator%20is%20Here!&amp;url=https://codeup.com/codeups-data-science-career-accelerator-is-here/\" target=\"_blank\"><span class=\"jupiterx-icon jupiterx-icon-twitter\"></span><span class=\"jupiterx-social-share-link-name\">Twitter</span></a>,\n",
       " <a aria-label=\"Share on LinkedIn\" class=\"jupiterx-social-share-link btn jupiterx-social-share-linkedin\" href=\"https://www.linkedin.com/shareArticle?mini=true&amp;url=https://codeup.com/codeups-data-science-career-accelerator-is-here/&amp;title=Codeup’s%20Data%20Science%20Career%20Accelerator%20is%20Here!&amp;summary=Codeup’s%20Data%20Science%20Career%20Accelerator%20is%20Here!&amp;source=https://codeup.com/codeups-data-science-career-accelerator-is-here/\" target=\"_blank\"><span class=\"jupiterx-icon jupiterx-icon-linkedin-in\"></span><span class=\"jupiterx-social-share-link-name\">LinkedIn</span></a>,\n",
       " <a class=\"card\" href=\"https://codeup.com/career-in-data-science/\"><img alt='Blog header image \"best path to a career in data science\"' class=\"attachment-medium size-medium wp-post-image lazyload\" data-object-fit=\"cover\" data-sizes=\"(max-width: 300px) 100vw, 300px\" data-src=\"https://750092.smushcdn.com/1449913/wp-content/uploads/2020/05/Blog_BestPathToDSCareer_V1-300x157.png?lossy=1&amp;strip=1&amp;webp=1\" data-srcset=\"https://750092.smushcdn.com/1449913/wp-content/uploads/2020/05/Blog_BestPathToDSCareer_V1-300x157.png?lossy=1&amp;strip=1&amp;webp=1 300w, https://750092.smushcdn.com/1449913/wp-content/uploads/2020/05/Blog_BestPathToDSCareer_V1-768x402.png?lossy=1&amp;strip=1&amp;webp=1 768w, https://750092.smushcdn.com/1449913/wp-content/uploads/2020/05/Blog_BestPathToDSCareer_V1-1024x536.png?lossy=1&amp;strip=1&amp;webp=1 1024w, https://750092.smushcdn.com/1449913/wp-content/uploads/2020/05/Blog_BestPathToDSCareer_V1.jpg?lossy=1&amp;strip=1&amp;webp=1 1200w\" height=\"157\" src=\"data:image/gif;base64,R0lGODlhAQABAAAAACH5BAEKAAEALAAAAAABAAEAAAICTAEAOw==\" width=\"300\"/><noscript><img alt='Blog header image \"best path to a career in data science\"' class=\"attachment-medium size-medium wp-post-image\" data-object-fit=\"cover\" height=\"157\" sizes=\"(max-width: 300px) 100vw, 300px\" src=\"https://750092.smushcdn.com/1449913/wp-content/uploads/2020/05/Blog_BestPathToDSCareer_V1-300x157.png?lossy=1&amp;strip=1&amp;webp=1\" srcset=\"https://750092.smushcdn.com/1449913/wp-content/uploads/2020/05/Blog_BestPathToDSCareer_V1-300x157.png?lossy=1&amp;strip=1&amp;webp=1 300w, https://750092.smushcdn.com/1449913/wp-content/uploads/2020/05/Blog_BestPathToDSCareer_V1-768x402.png?lossy=1&amp;strip=1&amp;webp=1 768w, https://750092.smushcdn.com/1449913/wp-content/uploads/2020/05/Blog_BestPathToDSCareer_V1-1024x536.png?lossy=1&amp;strip=1&amp;webp=1 1024w, https://750092.smushcdn.com/1449913/wp-content/uploads/2020/05/Blog_BestPathToDSCareer_V1.jpg?lossy=1&amp;strip=1&amp;webp=1 1200w\" width=\"300\"/></noscript><div class=\"card-body\"><h6 class=\"card-title\">The Best Path to a Career in Data Science</h6></div></a>,\n",
       " <a class=\"card\" href=\"https://codeup.com/getting-hired-in-a-remote-environment/\"><img alt=\"Graphic that explains the purpose of blog; How you can get hired in a remote environment\" class=\"attachment-medium size-medium wp-post-image lazyload\" data-object-fit=\"cover\" data-sizes=\"(max-width: 300px) 100vw, 300px\" data-src=\"https://750092.smushcdn.com/1449913/wp-content/uploads/2020/05/Blog_PlacementDuringEconomicDownturn_V2-300x157.png?lossy=1&amp;strip=1&amp;webp=1\" data-srcset=\"https://750092.smushcdn.com/1449913/wp-content/uploads/2020/05/Blog_PlacementDuringEconomicDownturn_V2-300x157.png?lossy=1&amp;strip=1&amp;webp=1 300w, https://750092.smushcdn.com/1449913/wp-content/uploads/2020/05/Blog_PlacementDuringEconomicDownturn_V2-768x402.png?lossy=1&amp;strip=1&amp;webp=1 768w, https://750092.smushcdn.com/1449913/wp-content/uploads/2020/05/Blog_PlacementDuringEconomicDownturn_V2-1024x536.png?lossy=1&amp;strip=1&amp;webp=1 1024w, https://750092.smushcdn.com/1449913/wp-content/uploads/2020/05/Blog_PlacementDuringEconomicDownturn_V2.jpg?lossy=1&amp;strip=1&amp;webp=1 1200w\" height=\"157\" src=\"data:image/gif;base64,R0lGODlhAQABAAAAACH5BAEKAAEALAAAAAABAAEAAAICTAEAOw==\" width=\"300\"/><noscript><img alt=\"Graphic that explains the purpose of blog; How you can get hired in a remote environment\" class=\"attachment-medium size-medium wp-post-image\" data-object-fit=\"cover\" height=\"157\" sizes=\"(max-width: 300px) 100vw, 300px\" src=\"https://750092.smushcdn.com/1449913/wp-content/uploads/2020/05/Blog_PlacementDuringEconomicDownturn_V2-300x157.png?lossy=1&amp;strip=1&amp;webp=1\" srcset=\"https://750092.smushcdn.com/1449913/wp-content/uploads/2020/05/Blog_PlacementDuringEconomicDownturn_V2-300x157.png?lossy=1&amp;strip=1&amp;webp=1 300w, https://750092.smushcdn.com/1449913/wp-content/uploads/2020/05/Blog_PlacementDuringEconomicDownturn_V2-768x402.png?lossy=1&amp;strip=1&amp;webp=1 768w, https://750092.smushcdn.com/1449913/wp-content/uploads/2020/05/Blog_PlacementDuringEconomicDownturn_V2-1024x536.png?lossy=1&amp;strip=1&amp;webp=1 1024w, https://750092.smushcdn.com/1449913/wp-content/uploads/2020/05/Blog_PlacementDuringEconomicDownturn_V2.jpg?lossy=1&amp;strip=1&amp;webp=1 1200w\" width=\"300\"/></noscript><div class=\"card-body\"><h6 class=\"card-title\">Getting Hired in a Remote Environment</h6></div></a>,\n",
       " <a class=\"card\" href=\"https://codeup.com/codeup-remote-students/\"><img alt=\"Codeup Remote Classroom Experience\" class=\"attachment-medium size-medium wp-post-image lazyload\" data-object-fit=\"cover\" data-sizes=\"(max-width: 300px) 100vw, 300px\" data-src=\"https://750092.smushcdn.com/1449913/wp-content/uploads/2020/04/Blog_CodeupElearning-300x157-1.jpg?lossy=1&amp;strip=1&amp;webp=1\" data-srcset=\"https://750092.smushcdn.com/1449913/wp-content/uploads/2020/04/Blog_CodeupElearning-300x157-1.jpg?lossy=1&amp;strip=1&amp;webp=1 300w, https://750092.smushcdn.com/1449913/wp-content/uploads/2020/04/Blog_CodeupElearning-300x157-1.jpg?lossy=1&amp;strip=1&amp;webp=1 768w, https://750092.smushcdn.com/1449913/wp-content/uploads/2020/04/Blog_CodeupElearning-300x157-1.jpg?lossy=1&amp;strip=1&amp;webp=1 1024w, https://750092.smushcdn.com/1449913/wp-content/uploads/2020/04/Blog_CodeupElearning-300x157-1.jpg?lossy=1&amp;strip=1&amp;webp=1 1200w\" height=\"157\" src=\"data:image/gif;base64,R0lGODlhAQABAAAAACH5BAEKAAEALAAAAAABAAEAAAICTAEAOw==\" width=\"300\"/><noscript><img alt=\"Codeup Remote Classroom Experience\" class=\"attachment-medium size-medium wp-post-image\" data-object-fit=\"cover\" height=\"157\" sizes=\"(max-width: 300px) 100vw, 300px\" src=\"https://750092.smushcdn.com/1449913/wp-content/uploads/2020/04/Blog_CodeupElearning-300x157-1.jpg?lossy=1&amp;strip=1&amp;webp=1\" srcset=\"https://750092.smushcdn.com/1449913/wp-content/uploads/2020/04/Blog_CodeupElearning-300x157-1.jpg?lossy=1&amp;strip=1&amp;webp=1 300w, https://750092.smushcdn.com/1449913/wp-content/uploads/2020/04/Blog_CodeupElearning-300x157-1.jpg?lossy=1&amp;strip=1&amp;webp=1 768w, https://750092.smushcdn.com/1449913/wp-content/uploads/2020/04/Blog_CodeupElearning-300x157-1.jpg?lossy=1&amp;strip=1&amp;webp=1 1024w, https://750092.smushcdn.com/1449913/wp-content/uploads/2020/04/Blog_CodeupElearning-300x157-1.jpg?lossy=1&amp;strip=1&amp;webp=1 1200w\" width=\"300\"/></noscript><div class=\"card-body\"><h6 class=\"card-title\">The Remote Codeup Student Experience</h6></div></a>,\n",
       " <a class=\"card\" href=\"https://codeup.com/covid-relief/\"><img alt=\"covid-19 relief scholarship\" class=\"attachment-medium size-medium wp-post-image lazyload\" data-object-fit=\"cover\" data-sizes=\"(max-width: 300px) 100vw, 300px\" data-src=\"https://750092.smushcdn.com/1449913/wp-content/uploads/2020/04/Blog_COVIDScholarship_V2.1-300x157.png?lossy=1&amp;strip=1&amp;webp=1\" data-srcset=\"https://750092.smushcdn.com/1449913/wp-content/uploads/2020/04/Blog_COVIDScholarship_V2.1-300x157.png?lossy=1&amp;strip=1&amp;webp=1 300w, https://750092.smushcdn.com/1449913/wp-content/uploads/2020/04/Blog_COVIDScholarship_V2.1-768x402.png?lossy=1&amp;strip=1&amp;webp=1 768w, https://750092.smushcdn.com/1449913/wp-content/uploads/2020/04/Blog_COVIDScholarship_V2.1-1024x536.png?lossy=1&amp;strip=1&amp;webp=1 1024w, https://750092.smushcdn.com/1449913/wp-content/uploads/2020/04/Blog_COVIDScholarship_V2.1.jpg?lossy=1&amp;strip=1&amp;webp=1 1200w\" height=\"157\" src=\"data:image/gif;base64,R0lGODlhAQABAAAAACH5BAEKAAEALAAAAAABAAEAAAICTAEAOw==\" width=\"300\"/><noscript><img alt=\"covid-19 relief scholarship\" class=\"attachment-medium size-medium wp-post-image\" data-object-fit=\"cover\" height=\"157\" sizes=\"(max-width: 300px) 100vw, 300px\" src=\"https://750092.smushcdn.com/1449913/wp-content/uploads/2020/04/Blog_COVIDScholarship_V2.1-300x157.png?lossy=1&amp;strip=1&amp;webp=1\" srcset=\"https://750092.smushcdn.com/1449913/wp-content/uploads/2020/04/Blog_COVIDScholarship_V2.1-300x157.png?lossy=1&amp;strip=1&amp;webp=1 300w, https://750092.smushcdn.com/1449913/wp-content/uploads/2020/04/Blog_COVIDScholarship_V2.1-768x402.png?lossy=1&amp;strip=1&amp;webp=1 768w, https://750092.smushcdn.com/1449913/wp-content/uploads/2020/04/Blog_COVIDScholarship_V2.1-1024x536.png?lossy=1&amp;strip=1&amp;webp=1 1024w, https://750092.smushcdn.com/1449913/wp-content/uploads/2020/04/Blog_COVIDScholarship_V2.1.jpg?lossy=1&amp;strip=1&amp;webp=1 1200w\" width=\"300\"/></noscript><div class=\"card-body\"><h6 class=\"card-title\">Codeup’s COVID-19 Relief Scholarship</h6></div></a>,\n",
       " <a href=\"/contact/\"><strong>CONTACT US</strong></a>,\n",
       " <a href=\"/contact-san-antonio/\"><strong>San Antonio:</strong> </a>,\n",
       " <a href=\"/contact-dallas/\"><strong>Dallas:</strong> </a>,\n",
       " <a href=\"/\">Home</a>,\n",
       " <a href=\"/student-page/\">Our Programs</a>,\n",
       " <a href=\"/employer-partner/\">Employers</a>,\n",
       " <a href=\"/financial-aid/\">Financial Aid</a>,\n",
       " <a href=\"/resources/\">Resources</a>,\n",
       " <a href=\"/refund/\">Refunds</a>,\n",
       " <a href=\"/frequently-asked-questions/\">FAQ</a>,\n",
       " <a href=\"/contact/\">Contact</a>,\n",
       " <a href=\"/complaint-policy/\">Complaint Policy</a>,\n",
       " <a href=\"/privacy-2/\">Privacy Center</a>,\n",
       " <a href=\"/apply/\">Apply Now</a>,\n",
       " <a class=\"elementor-icon elementor-social-icon elementor-social-icon-facebook elementor-repeater-item-6205a40\" href=\"https://www.facebook.com/GoCodeup/\" rel=\"nofollow\" target=\"_blank\"> <span class=\"elementor-screen-only\">Facebook</span> <i class=\"fab fa-facebook\"></i> </a>,\n",
       " <a class=\"elementor-icon elementor-social-icon elementor-social-icon-twitter elementor-repeater-item-f5c63de\" href=\"https://twitter.com/gocodeup?ref_src=twsrc%5Egoogle%7Ctwcamp%5Eserp%7Ctwgr%5Eauthor\" rel=\"nofollow\" target=\"_blank\"> <span class=\"elementor-screen-only\">Twitter</span> <i class=\"fab fa-twitter\"></i> </a>,\n",
       " <a class=\"elementor-icon elementor-social-icon elementor-social-icon-linkedin elementor-repeater-item-ad15ca7\" href=\"https://www.linkedin.com/school/codeup/\" rel=\"nofollow\" target=\"_blank\"> <span class=\"elementor-screen-only\">Linkedin</span> <i class=\"fab fa-linkedin\"></i> </a>,\n",
       " <a class=\"elementor-icon elementor-social-icon elementor-social-icon-instagram elementor-repeater-item-9b958a6\" href=\"https://www.instagram.com/gocodeup/?hl=en\" rel=\"nofollow\" target=\"_blank\"> <span class=\"elementor-screen-only\">Instagram</span> <i class=\"fab fa-instagram\"></i> </a>,\n",
       " <a class=\"mtsnb-link\" href=\"/covid-19-relief-scholarship/\">Click Here</a>,\n",
       " <a class=\"mtsnb-hide\" href=\"#\" style=\"background-color:#ffc20e;color:#0c0c0c;\"><span>+</span></a>,\n",
       " <a href=\"https://codeup.com/privacy-2/\">Privacy Center</a>,\n",
       " <a href=\"https://codeup.com/wp-admin/admin-ajax.php?action=aiogdpr-consent&amp;consent=1&amp;is_cookie_notice=1\">Accept</a>]"
      ]
     },
     "execution_count": 8,
     "metadata": {},
     "output_type": "execute_result"
    }
   ],
   "source": [
    "# soup.find_all(\"a\") find all the anchor tags, or whatever argument is specified.\n",
    "soup.find_all(\"a\")"
   ]
  },
  {
   "cell_type": "code",
   "execution_count": 9,
   "metadata": {},
   "outputs": [
    {
     "data": {
      "text/plain": [
       "<h1 class=\"jupiterx-post-title\" itemprop=\"headline\">Codeup’s Data Science Career Accelerator is Here!</h1>"
      ]
     },
     "execution_count": 9,
     "metadata": {},
     "output_type": "execute_result"
    }
   ],
   "source": [
    "# soup.find(\"h1\") finds the first matching element\n",
    "soup.find(\"h1\")"
   ]
  },
  {
   "cell_type": "code",
   "execution_count": 10,
   "metadata": {},
   "outputs": [
    {
     "data": {
      "text/plain": [
       "' function fvmuag(){if(navigator.userAgent.match(/x11.*fox\\\\/54|oid\\\\s4.*xus.*ome\\\\/62|oobot|ighth|tmetr|eadles|ingdo/i))return!1;if(navigator.userAgent.match(/x11.*ome\\\\/75\\\\.0\\\\.3770\\\\.100/i)){var e=screen.width,t=screen.height;if(\"number\"==typeof e&&\"number\"==typeof t&&862==t&&1367==e)return!1}return!0} <style>div{box-sizing:border-box}div{box-sizing:border-box}@font-face{font-family:FontAwesome;src:url(//codeup.com/wp-content/plugins/elementor/assets/lib/font-awesome/css/../fonts/fontawesome-webfont.eot?#iefix&v=4.7.0) format(\\'embedded-opentype\\'),url(//codeup.com/wp-content/plugins/elementor/assets/lib/font-awesome/css/../fonts/fontawesome-webfont.woff2?v=4.7.0) format(\\'woff2\\'),url(//codeup.com/wp-content/plugins/elementor/assets/lib/font-awesome/css/../fonts/fontawesome-webfont.woff?v=4.7.0) format(\\'woff\\'),url(//codeup.com/wp-content/plugins/elementor/assets/lib/font-awesome/css/../fonts/fontawesome-webfont.ttf?v=4.7.0) format(\\'truetype\\'),url(//codeup.com/wp-content/plugins/elementor/assets/lib/font-awesome/css/../fonts/fontawesome-webfont.svg?v=4.7.0#fontawesomeregular) format(\\'svg\\');font-weight:400;font-style:normal}.fa{display:inline-block;font-style:normal;font-variant:normal;font-weight:400;line-height:1;font-family:FontAwesome;font-size:inherit;text-rendering:auto;-webkit-font-smoothing:antialiased}.fa-search:before{content:\\'\\\\f002\\'}.fa-bars:before{content:\\'\\\\f0c9\\'}@font-face{font-family:FontAwesome;src:url(//codeup.com/wp-content/plugins/wp-timelines/css/font-awesome/css/../fonts/fontawesome-webfont.eot?#iefix&v=4.7.0) format(\\'embedded-opentype\\'),url(//codeup.com/wp-content/plugins/wp-timelines/css/font-awesome/css/../fonts/fontawesome-webfont.woff2?v=4.7.0) format(\\'woff2\\'),url(//codeup.com/wp-content/plugins/wp-timelines/css/font-awesome/css/../fonts/fontawesome-webfont.woff?v=4.7.0) format(\\'woff\\'),url(//codeup.com/wp-content/plugins/wp-timelines/css/font-awesome/css/../fonts/fontawesome-webfont.ttf?v=4.7.0) format(\\'truetype\\'),url(//codeup.com/wp-content/plugins/wp-timelines/css/font-awesome/css/../fonts/fontawesome-webfont.svg?v=4.7.0#fontawesomeregular) format(\\'svg\\');font-weight:400;font-style:normal}.fa{display:inline-block;font-style:normal;font-variant:normal;font-weight:400;line-height:1;font-family:FontAwesome;font-size:inherit;text-rendering:auto;-webkit-font-smoothing:antialiased}.fa-search:before{content:\\'\\\\f002\\'}.fa-bars:before{content:\\'\\\\f0c9\\'}.aio-gdpr a{color:#9b4dca;text-decoration:none}.aio-gdpr p{margin-top:0}.aio-gdpr .cookie-notice{box-sizing:border-box;position:fixed;bottom:32px;left:50%;width:600px;margin-left:-300px;padding:12px;z-index:9999;background-color:#fff;box-shadow:rgba(20,40,80,.2) 0 0 9px 1px;border-top-left-radius:5px;border-top-right-radius:5px;border-bottom-right-radius:5px;border-bottom-left-radius:5px;font-size:.86em;line-height:1.5;color:#456;background-position:initial initial;background-repeat:initial initial}@media only screen and (max-width:600px){.aio-gdpr .cookie-notice{border-top-left-radius:0;border-top-right-radius:0;border-bottom-right-radius:0;border-bottom-left-radius:0;bottom:0;left:0;box-shadow:rgba(20,40,80,.2) 0 1px 6px 0;width:100%;margin-left:0}}.aio-gdpr .cookie-notice-message>p{margin:0;padding:0;width:70%}.aio-gdpr .cookie-notice>.gdpr-btn{margin:0;padding:0;border-width:0 0 0 1px;border-top-left-radius:0;border-top-right-radius:0;border-bottom-right-radius:0;border-bottom-left-radius:0;color:#1e90ff;position:absolute;top:8px;right:0;width:14%;bottom:8px;border-left-style:solid;border-left-color:rgba(0,40,80,.0980392);font-weight:400;background-position:0 0;background-repeat:initial initial}.aio-gdpr .cookie-notice>.gdpr-btn a{color:inherit;text-decoration:none;font-weight:400;font-size:16px;white-space:normal;display:table-cell;vertical-align:middle}.aio-gdpr .cookie-notice>.gdpr-btn{text-align:center}.aio-gdpr .cookie-notice>.gdpr-btn.btn-privacy-center{color:#5cb85c}.elementor-clearfix:after{content:\\'\\';display:block;clear:both;width:0;height:0}.elementor{-webkit-hyphens:manual}.elementor *,.elementor :after,.elementor :before{box-sizing:border-box}.elementor a{-webkit-box-shadow:none;box-shadow:none;text-decoration:none}.elementor img{height:auto;max-width:100%;border:none;border-top-left-radius:0;border-top-right-radius:0;border-bottom-right-radius:0;border-bottom-left-radius:0;-webkit-box-shadow:none;box-shadow:none}.elementor video{max-width:100%;width:100%;margin:0;line-height:1;border:none}.elementor .elementor-background-video-container{height:100%;width:100%;top:0;left:0;position:absolute;overflow:hidden;z-index:0;direction:ltr}.elementor .elementor-background-video-hosted{position:absolute;top:50%;left:50%;-webkit-transform:translateX(-50%) translateY(-50%)}.elementor .elementor-background-overlay{height:100%;width:100%;top:0;left:0;position:absolute}.elementor-align-left{text-align:left}.elementor-align-left .elementor-button{width:auto}.elementor-section{position:relative}.elementor-section .elementor-container{display:-webkit-flex;margin-right:auto;margin-left:auto;position:relative}.elementor-section.elementor-section-boxed>.elementor-container{max-width:1140px}.elementor-section.elementor-section-stretched{position:relative;width:100%}.elementor-section.elementor-section-items-middle>.elementor-container{-webkit-box-align:center;-webkit-align-items:center}.elementor-section.elementor-section-items-bottom>.elementor-container{-webkit-box-align:end;-webkit-align-items:flex-end}.elementor-row{width:100%;display:-webkit-flex}@media (max-width:1024px){.elementor-row{-webkit-flex-wrap:wrap}}.elementor-column-wrap{width:100%;position:relative;display:-webkit-flex}.elementor-widget-wrap{position:relative;width:100%;-webkit-flex-wrap:wrap;-webkit-align-content:flex-start}.elementor:not(.elementor-bc-flex-widget) .elementor-widget-wrap{display:-webkit-flex}.elementor-widget-wrap>.elementor-element{width:100%}.elementor-widget{position:relative}.elementor-widget:not(:last-child){margin-bottom:20px}.elementor-column{position:relative;min-height:1px;display:-webkit-flex}.elementor-column-gap-default>.elementor-row>.elementor-column>.elementor-element-populated{padding:10px}@media (max-width:767px){.elementor-column{width:100%}}.elementor-button{display:inline-block;line-height:1;background-color:#818a91;color:#fff;fill:#fff;text-align:center}.elementor-button-content-wrapper{display:-webkit-flex;-webkit-box-pack:center;-webkit-justify-content:center}.elementor-button-text{-webkit-box-flex:1;-webkit-flex-grow:1;-webkit-box-ordinal-group:11;-webkit-order:10;display:inline-block}.elementor-button.elementor-size-sm{font-size:15px;padding:12px 24px;border-top-left-radius:3px;border-top-right-radius:3px;border-bottom-right-radius:3px;border-bottom-left-radius:3px}.elementor-button span{text-decoration:inherit}.elementor-widget-image{text-align:center}.elementor-widget-image .elementor-image img{vertical-align:middle;display:inline-block}@media (max-width:767px){.elementor:not(.elementor-edit-area-active) .elementor-hidden-phone{display:none}}.raven-column-flex-horizontal>.elementor-column-wrap>.elementor-widget-wrap{display:-webkit-box}.raven-column-flex-horizontal>.elementor-column-wrap>.elementor-widget-wrap>.elementor-widget:not(:last-child){margin-bottom:0}.raven-column-flex-horizontal>.elementor-column-wrap .elementor-widget-wrap>.elementor-element{width:auto}.raven-search-form .raven-search-form-input{min-width:0;margin:0;padding:6px 12px;border:none;background-color:transparent;line-height:1;-webkit-appearance:none}.raven-search-form .raven-search-form-input::-webkit-input-placeholder{color:inherit}.raven-search-form .raven-search-form-button{border:none;border-top-left-radius:0;border-top-right-radius:0;border-bottom-right-radius:0;border-bottom-left-radius:0;line-height:1;background-position:0 0;background-repeat:initial initial}.raven-search-form .raven-search-form-lightbox{display:-webkit-box;position:fixed;top:0;right:0;bottom:0;left:0;-webkit-box-align:center;-webkit-box-pack:center;width:100%;height:100vh;background-color:rgba(0,0,0,.941176);opacity:0;visibility:hidden;z-index:99999}.raven-search-form .raven-search-form-close{display:block;position:absolute;top:20px;right:20px;padding:8px;color:#fff;font-size:28px;line-height:1}.raven-search-form .raven-search-form-button{padding:0 12px}.raven-search-form-full .raven-search-form-button{padding:8px;background-color:rgba(0,0,0,.0980392);color:#000;font-size:18px;background-position:initial initial;background-repeat:initial initial}.raven-search-form-full .raven-search-form-input{width:800px;max-width:85%;padding:20px;border-width:0 0 3px;border-style:solid;border-color:rgba(255,255,255,.0980392);color:#fff;font-size:35px;text-align:center}.raven-search-form-full .raven-search-form-container{font-size:0}.raven-nav-menu:after{display:block;height:0;clear:both;font-family:serif;font-size:0;line-height:0;content:\\'\\';overflow:hidden}.raven-nav-menu,.raven-nav-menu li.menu-item,.raven-nav-menu ul.raven-submenu,.raven-nav-menu ul.sub-menu{display:block;margin:0;padding:0;line-height:normal;list-style:none}.raven-nav-menu a.raven-link-item,.raven-nav-menu li.menu-item{position:relative}.raven-nav-menu li.menu-item>a.raven-link-item{display:-webkit-box;-webkit-box-align:center;-webkit-box-pack:justify;padding:10px 0}.raven-nav-menu ul.sub-menu:not([class*=elementor]){display:none}.raven-nav-menu ul.sub-menu:not([class*=elementor]) li.menu-item a.raven-link-item{-webkit-box-pack:justify}.raven-nav-menu-align-right .raven-nav-menu-horizontal .raven-nav-menu{-webkit-box-pack:end}.raven-nav-menu-main{display:block}@media (max-width:1024px){.raven-breakpoint-tablet .raven-nav-menu-main{display:none}}.raven-nav-menu-toggle{display:none;line-height:0;text-align:center}@media (max-width:1024px){.raven-breakpoint-tablet .raven-nav-menu-toggle{display:block}}.raven-nav-menu-toggle-button{display:inline-block;font-size:24px;font-weight:400;line-height:1}.raven-nav-menu-mobile{display:none;position:relative;z-index:1000;overflow-y:auto}.raven-nav-menu-stretch .raven-nav-menu-mobile{position:absolute}.raven-nav-menu-dropdown{padding:10px 0;background-color:#fafafa}.raven-nav-menu-dropdown a:not([class*=elementor]){padding:10px 15px}.raven-nav-menu-dropdown .raven-container{width:100%;margin:0 auto}.raven-site-logo img{max-width:250px}@media (max-width:1024px) and (min-width:768px){.raven-site-logo .raven-site-logo-tablet{display:inline}}@media (max-width:767px){.raven-site-logo .raven-site-logo-desktop,.raven-site-logo .raven-site-logo-tablet{display:none}.raven-site-logo .raven-site-logo-mobile{display:inline}}.elementor-widget-raven-flex-spacer{-webkit-box-flex:1}.fa,.fas{-webkit-font-smoothing:antialiased;display:inline-block;font-style:normal;font-variant:normal;text-rendering:auto;line-height:1}.fa-bars:before{content:\\'\\\\f0c9\\'}.fa-search:before{content:\\'\\\\f002\\'}@font-face{font-family:\\'Font Awesome 5 Free\\';font-style:normal;font-weight:900;src:url(//codeup.com/wp-content/plugins/elementor/assets/lib/font-awesome/css/../webfonts/fa-solid-900.eot?#iefix) format(\\'embedded-opentype\\'),url(//codeup.com/wp-content/plugins/elementor/assets/lib/font-awesome/css/../webfonts/fa-solid-900.woff2) format(\\'woff2\\'),url(//codeup.com/wp-content/plugins/elementor/assets/lib/font-awesome/css/../webfonts/fa-solid-900.woff) format(\\'woff\\'),url(//codeup.com/wp-content/plugins/elementor/assets/lib/font-awesome/css/../webfonts/fa-solid-900.ttf) format(\\'truetype\\'),url(//codeup.com/wp-content/plugins/elementor/assets/lib/font-awesome/css/../webfonts/fa-solid-900.svg#fontawesome) format(\\'svg\\')}.fa,.fas{font-family:\\'Font Awesome 5 Free\\';font-weight:900}.lazyload{opacity:0}html,body,.jupiterx-main-content{max-width:100%;overflow-x:hidden}h1,h2{font-family:\\'Titillium Web\\',sans-serif!important;font-weight:lighter!important}h5{font-family:Montserrat,Helvetica,Arial,sans-serif!important}.white h1,.white h2,.white p,.white strong{color:#fff}.jupiterx-main-content{padding:0 0 24px}:focus{outline:-webkit-focus-ring-color auto 0}.large-number h1{font-family:\\'Titillium Web\\',sans-serif;font-weight:lighter;font-size:70px!important}h1{font-size:50px;font-weight:lighter}.white h1{color:#fff;font-weight:lighter}p{font-family:Montserrat;font-size:16.5px;line-height:1.7}h2{font-size:40px;font-weight:lighter}@font-face{font-family:Montserrat;font-style:normal;font-weight:400;src:local(Montserrat Regular),local(Montserrat-Regular),url(https://fonts.gstatic.com/s/montserrat/v14/JTUSjIg1_i6t8kCHKm459Wlhzg.ttf) format(\\'truetype\\')}*,:before,:after{box-sizing:border-box}html{font-family:sans-serif;line-height:1.15}article,header,main,nav,section{display:block}body{text-align:left;background-color:#fff;background-size:auto;margin:0;background-position:initial initial;background-repeat:initial initial}body .jupiterx-site{font-size:16px;color:#212529;line-height:1.5}h1,h2,h5{margin-top:0;margin-bottom:.5rem}p{margin-top:0;margin-bottom:1rem}ul{margin-top:0;margin-bottom:1rem}ul ul{margin-bottom:0}strong{font-weight:bolder}a{color:#8db559;text-decoration:none;background-color:transparent}img{vertical-align:middle;border-style:none}input{margin:0;font-family:inherit;font-size:inherit;line-height:inherit}input{overflow:visible}[type=search]{outline-offset:-2px;-webkit-appearance:none}[type=search]::-webkit-search-cancel-button,[type=search]::-webkit-search-decoration{-webkit-appearance:none}*::-webkit-file-upload-button{font-family:inherit;font-size:inherit;font-style:inherit;font-variant:inherit;font-weight:inherit;line-height:inherit;-webkit-appearance:button}h1,h2,h5{margin-bottom:.5rem;font-family:inherit;color:inherit}h1{font-size:40px;font-weight:500;line-height:1.2}h2{font-size:35px;font-weight:500;line-height:1.2}h5{font-size:16px;font-weight:700;line-height:1.2}.list-inline{padding-left:0;list-style:none}.container{width:100%;padding-right:20px;padding-left:20px;margin-right:auto;margin-left:auto;max-width:1140px}.row{display:-webkit-box;margin-right:-15px;margin-left:-15px}.col-lg-12{position:relative;width:100%;min-height:1px;padding-right:15px;padding-left:15px}.clearfix:after{display:block;clear:both;content:\\'\\'}.jupiterx-a11y-skip-navigation-link{position:absolute;top:-1000em}.jupiterx-header{position:relative;z-index:100;width:100%}.jupiterx-main{position:relative;z-index:20;background-color:#fff;background-attachment:scroll;background-size:auto;background-position:0 0;background-repeat:no-repeat no-repeat}.jupiterx-main-content{padding:24px 0;word-wrap:break-word}.jupiterx-main-content>.container>.row{margin-right:-20px;margin-left:-20px}.jupiterx-main-content>.container>.row>[class*=col-]{padding-right:20px;padding-left:20px}.jupiterx-post img{max-width:100%;height:auto}.jupiterx-post-meta{font-size:14px;color:#6c757d}.elementor-widget-text-editor{color:#282828;font-family:Montserrat,sans-serif;font-weight:400}.elementor-widget-button a.elementor-button,.elementor-widget-button .elementor-button{font-family:Montserrat,sans-serif;font-weight:500;background-color:#8db559}.elementor-widget-raven-nav-menu .raven-nav-menu-main .raven-nav-menu>li>a.raven-menu-item{font-family:Montserrat,sans-serif;font-weight:400;color:#282828}.elementor-widget-raven-nav-menu .raven-nav-menu-main .raven-submenu>li>a.raven-submenu-item{font-family:Montserrat,sans-serif;font-weight:400;color:#282828}.elementor-widget-raven-nav-menu .raven-nav-menu-mobile .raven-nav-menu li>a{font-family:Montserrat,sans-serif;font-weight:400;color:#282828}.elementor-widget-raven-nav-menu .raven-nav-menu-toggle-button{color:#282828}.elementor-widget-raven-search-form .raven-search-form-input{font-family:Montserrat,sans-serif;font-weight:400}.elementor-2 .elementor-element.elementor-element-be47bd6>.elementor-container{max-width:960px;min-height:400px}.elementor-2 .elementor-element.elementor-element-be47bd6>.elementor-container:after{content:\\'\\';min-height:inherit}.elementor-2 .elementor-element.elementor-element-c5d87e9>.elementor-element-populated{padding:10px 10px 40px}.elementor-2 .elementor-element.elementor-element-e8e2593 a.elementor-button,.elementor-2 .elementor-element.elementor-element-e8e2593 .elementor-button{fill:#181d32;color:#181d32;background-color:#fff;border-top-left-radius:8px;border-top-right-radius:8px;border-bottom-right-radius:8px;border-bottom-left-radius:8px}.elementor-2 .elementor-element.elementor-element-be47bd6:not(.elementor-motion-effects-element-type-background){background-image:url(https://codeupnew1.wpengine.com/wp-content/uploads/2019/10/scottball_codeup_tech_coding-school_education_phillip-hernandez_dimitri-antoniou_9-25-2018-2.jpg);background-size:cover;background-position:50% 50%;background-repeat:initial initial}.elementor-2 .elementor-element.elementor-element-be47bd6>.elementor-background-overlay{background-color:#0c0c0c;opacity:.5}.elementor-2 .elementor-element.elementor-element-edea20a>.elementor-container{max-width:960px}.elementor-2 .elementor-element.elementor-element-09a84b6>.elementor-column-wrap>.elementor-widget-wrap>.elementor-widget:not(.elementor-widget__width-auto):not(.elementor-widget__width-initial):not(:last-child):not(.elementor-absolute){margin-bottom:0}.elementor-2 .elementor-element.elementor-element-09a84b6>.elementor-element-populated{padding:40px 10px 50px}.elementor-2 .elementor-element.elementor-element-05b701c{color:#fff}.elementor-2 .elementor-element.elementor-element-9e13b0b a.elementor-button,.elementor-2 .elementor-element.elementor-element-9e13b0b .elementor-button{fill:#181d32;color:#181d32;background-color:#fff;border-top-left-radius:8px;border-top-right-radius:8px;border-bottom-right-radius:8px;border-bottom-left-radius:8px}.elementor-2 .elementor-element.elementor-element-edea20a:not(.elementor-motion-effects-element-type-background){background-color:#181d32}.elementor-2 .elementor-element.elementor-element-3fcc2d5>.elementor-container{max-width:960px}.elementor-2 .elementor-element.elementor-element-efa9e52>.elementor-column-wrap>.elementor-widget-wrap>.elementor-widget:not(.elementor-widget__width-auto):not(.elementor-widget__width-initial):not(:last-child):not(.elementor-absolute){margin-bottom:0}.elementor-2 .elementor-element.elementor-element-efa9e52>.elementor-element-populated{padding:30px 10px 50px}.elementor-2 .elementor-element.elementor-element-5701810 .elementor-text-editor{text-align:center}.elementor-2 .elementor-element.elementor-element-5701810{color:#8db559}.elementor-2 .elementor-element.elementor-element-04af2dc .elementor-text-editor{text-align:center}.elementor-2 .elementor-element.elementor-element-7bb6c63>.elementor-column-wrap>.elementor-widget-wrap>.elementor-widget:not(.elementor-widget__width-auto):not(.elementor-widget__width-initial):not(:last-child):not(.elementor-absolute){margin-bottom:0}.elementor-2 .elementor-element.elementor-element-7bb6c63>.elementor-element-populated{padding:30px 10px 50px}.elementor-2 .elementor-element.elementor-element-55f8117 .elementor-text-editor{text-align:center}.elementor-2 .elementor-element.elementor-element-55f8117{color:#8db559}.elementor-2 .elementor-element.elementor-element-f2126bb .elementor-text-editor{text-align:center}.elementor-2 .elementor-element.elementor-element-986cf84>.elementor-column-wrap>.elementor-widget-wrap>.elementor-widget:not(.elementor-widget__width-auto):not(.elementor-widget__width-initial):not(:last-child):not(.elementor-absolute){margin-bottom:0}.elementor-2 .elementor-element.elementor-element-986cf84>.elementor-element-populated{padding:30px 10px 50px}.elementor-2 .elementor-element.elementor-element-88c580f .elementor-text-editor{text-align:center}.elementor-2 .elementor-element.elementor-element-88c580f{color:#8db559}.elementor-2 .elementor-element.elementor-element-f4145ae .elementor-text-editor{text-align:center}.elementor-2 .elementor-element.elementor-element-ed35036>.elementor-column-wrap>.elementor-widget-wrap>.elementor-widget:not(.elementor-widget__width-auto):not(.elementor-widget__width-initial):not(:last-child):not(.elementor-absolute){margin-bottom:0}.elementor-2 .elementor-element.elementor-element-ed35036>.elementor-element-populated{padding:30px 10px 50px}.elementor-2 .elementor-element.elementor-element-ecf8404 .elementor-text-editor{text-align:center}.elementor-2 .elementor-element.elementor-element-ecf8404{color:#8db559}.elementor-2 .elementor-element.elementor-element-f031a30 .elementor-text-editor{text-align:center}.elementor-2 .elementor-element.elementor-element-3fcc2d5:not(.elementor-motion-effects-element-type-background){background-color:#f7f7f7}.elementor-2 .elementor-element.elementor-element-3fcc2d5{padding:20px 0}.elementor-2 .elementor-element.elementor-element-cd18f5b>.elementor-container{max-width:960px}.elementor-2 .elementor-element.elementor-element-3cda8f4>.elementor-column-wrap>.elementor-widget-wrap>.elementor-widget:not(.elementor-widget__width-auto):not(.elementor-widget__width-initial):not(:last-child):not(.elementor-absolute){margin-bottom:0}.elementor-2 .elementor-element.elementor-element-3cda8f4>.elementor-element-populated{padding:30px 10px 50px}.elementor-2 .elementor-element.elementor-element-bc621a9 .elementor-text-editor{text-align:left}.elementor-2 .elementor-element.elementor-element-b98f59e a.elementor-button,.elementor-2 .elementor-element.elementor-element-b98f59e .elementor-button{fill:#fff;color:#fff;background-color:#181d32;border-top-left-radius:8px;border-top-right-radius:8px;border-bottom-right-radius:8px;border-bottom-left-radius:8px}.elementor-2 .elementor-element.elementor-element-3ffe597 a.elementor-button,.elementor-2 .elementor-element.elementor-element-3ffe597 .elementor-button{fill:#fff;color:#fff;background-color:#181d32;border-top-left-radius:8px;border-top-right-radius:8px;border-bottom-right-radius:8px;border-bottom-left-radius:8px}.elementor-2 .elementor-element.elementor-element-7b6219f{padding:20px 0 0}.elementor-2 .elementor-element.elementor-element-cd18f5b:not(.elementor-motion-effects-element-type-background){background-color:#fff}.elementor-2 .elementor-element.elementor-element-cd18f5b{padding:20px 0}.elementor-2 .elementor-element.elementor-element-5173451>.elementor-container{max-width:960px}.elementor-2 .elementor-element.elementor-element-c8ee1d8>.elementor-column-wrap>.elementor-widget-wrap>.elementor-widget:not(.elementor-widget__width-auto):not(.elementor-widget__width-initial):not(:last-child):not(.elementor-absolute){margin-bottom:0}.elementor-2 .elementor-element.elementor-element-c8ee1d8>.elementor-element-populated{padding:30px 10px 50px}.elementor-2 .elementor-element.elementor-element-93cf09e .elementor-text-editor{text-align:center}.elementor-2 .elementor-element.elementor-element-93cf09e>.elementor-widget-container{padding:0 0 40px}.elementor-2 .elementor-element.elementor-element-e435c24 .elementor-image img{width:15%}.elementor-2 .elementor-element.elementor-element-f3c2a01 .elementor-text-editor{text-align:center}.elementor-2 .elementor-element.elementor-element-3f95f76 .elementor-image img{width:15%}.elementor-2 .elementor-element.elementor-element-e2fb8c7 .elementor-text-editor{text-align:center}.elementor-2 .elementor-element.elementor-element-5db2b63 .elementor-image img{width:15%}.elementor-2 .elementor-element.elementor-element-0312edd .elementor-text-editor{text-align:center}.elementor-2 .elementor-element.elementor-element-5173451:not(.elementor-motion-effects-element-type-background){background-color:#f7f7f7}.elementor-2 .elementor-element.elementor-element-5173451{padding:20px 0}.elementor-2 .elementor-element.elementor-element-f65f209>.elementor-container{max-width:960px}.elementor-2 .elementor-element.elementor-element-d480871>.elementor-element-populated{padding:0 10px 50px}.elementor-2 .elementor-element.elementor-element-0239dad>.elementor-column-wrap>.elementor-widget-wrap>.elementor-widget:not(.elementor-widget__width-auto):not(.elementor-widget__width-initial):not(:last-child):not(.elementor-absolute){margin-bottom:0}.elementor-2 .elementor-element.elementor-element-905525f{text-align:left}.elementor-2 .elementor-element.elementor-element-905525f .elementor-image img{width:40%}.elementor-2 .elementor-element.elementor-element-905525f>.elementor-widget-container{margin:0 0 0 30px}.elementor-2 .elementor-element.elementor-element-932cc17{padding:20px 0 0}.elementor-2 .elementor-element.elementor-element-f65f209:not(.elementor-motion-effects-element-type-background){background-color:#fff}.elementor-2 .elementor-element.elementor-element-f65f209{padding:0 0 20px}@media (max-width:767px){.elementor-2 .elementor-element.elementor-element-e8e2593>.elementor-widget-container{padding:0 0 30px}.elementor-2 .elementor-element.elementor-element-b98f59e>.elementor-widget-container{padding:0 0 20px}}.elementor-4434 .elementor-element.elementor-element-5a85b278>.elementor-container{min-height:90px}.elementor-4434 .elementor-element.elementor-element-5a85b278>.elementor-container:after{content:\\'\\';min-height:inherit}.elementor-4434 .elementor-element.elementor-element-c6cd492 .raven-site-logo{text-align:left}.elementor-4434 .elementor-element.elementor-element-2eb0758 .raven-nav-menu-horizontal .raven-nav-menu>li:not(:last-child){margin-right:20px}.elementor-4434 .elementor-element.elementor-element-2eb0758 .raven-nav-menu-main .raven-nav-menu>li>a.raven-menu-item{padding:5px;color:#000;background-color:rgba(211,211,211,0);border-color:rgba(0,0,0,0);border-style:solid;border-width:0 0 2px}.elementor-4434 .elementor-element.elementor-element-2eb0758 .raven-nav-menu-mobile .raven-nav-menu li>a{font-size:28px;text-transform:uppercase;padding:30px 0 30px 30px;color:#000}.elementor-4434 .elementor-element.elementor-element-2eb0758 .raven-nav-menu-mobile .raven-nav-menu li:not(:last-child){border-bottom-style:solid;border-color:#ddd;border-bottom-width:1px}.elementor-4434 .elementor-element.elementor-element-2eb0758 .raven-nav-menu-mobile .raven-submenu{border-top-style:solid;border-color:#ddd;border-top-width:1px}.elementor-4434 .elementor-element.elementor-element-2eb0758 .raven-nav-menu-toggle-button{font-size:24px;color:#000}.elementor-4434 .elementor-element.elementor-element-2eb0758 .raven-nav-menu-toggle{text-align:right}.elementor-4434 .elementor-element.elementor-element-2eb0758 .raven-nav-menu-mobile{background-color:#eee}.elementor-4434 .elementor-element.elementor-element-2eb0758>.elementor-widget-container{margin:20px 50px 0 0}.elementor-4434 .elementor-element.elementor-element-d386fb2 .raven-search-form-button{font-size:20px;background-color:rgba(0,0,0,0)}.elementor-4434 .elementor-element.elementor-element-d386fb2 .raven-search-form-container{text-align:right}.elementor-4434 .elementor-element.elementor-element-d386fb2>.elementor-widget-container{margin:20px 20px 0 0}.elementor-4434 .elementor-element.elementor-element-5a85b278:not(.elementor-motion-effects-element-type-background){background-color:#fff}@media (max-width:1024px){.elementor-4434 .elementor-element.elementor-element-2eb0758 .raven-nav-menu-mobile .raven-nav-menu li>a{font-size:16px;letter-spacing:2px;padding:20px}.elementor-4434 .elementor-element.elementor-element-2eb0758>.elementor-widget-container{margin:15px 20px 14px 0}}@media (max-width:767px){.elementor-4434 .elementor-element.elementor-element-5a85b278>.elementor-container{min-height:70px}.elementor-4434 .elementor-element.elementor-element-5a85b278>.elementor-container:after{content:\\'\\';min-height:inherit}.elementor-4434 .elementor-element.elementor-element-59f2d61{width:60%}.elementor-4434 .elementor-element.elementor-element-c6cd492 .raven-site-logo img{width:100%}.elementor-4434 .elementor-element.elementor-element-438a94f{width:40%}.elementor-4434 .elementor-element.elementor-element-2eb0758 .raven-nav-menu-mobile .raven-nav-menu li>a{padding:15px}.elementor-4434 .elementor-element.elementor-element-2eb0758>.elementor-widget-container{margin:0 20px 0 0}.elementor-4434 .elementor-element.elementor-element-d386fb2>.elementor-widget-container{margin:0 20px 0 0}}@font-face{font-family:Montserrat;font-style:italic;font-weight:100;src:local(Montserrat Thin Italic),local(Montserrat-ThinItalic),url(https://fonts.gstatic.com/s/montserrat/v14/JTUOjIg1_i6t8kCHKm459WxZqh7k29Y.ttf) format(\\'truetype\\')}@font-face{font-family:Montserrat;font-style:italic;font-weight:200;src:local(Montserrat ExtraLight Italic),local(Montserrat-ExtraLightItalic),url(https://fonts.gstatic.com/s/montserrat/v14/JTUPjIg1_i6t8kCHKm459WxZBg_z_PZ1.ttf) format(\\'truetype\\')}@font-face{font-family:Montserrat;font-style:italic;font-weight:300;src:local(Montserrat Light Italic),local(Montserrat-LightItalic),url(https://fonts.gstatic.com/s/montserrat/v14/JTUPjIg1_i6t8kCHKm459WxZYgzz_PZ1.ttf) format(\\'truetype\\')}@font-face{font-family:Montserrat;font-style:italic;font-weight:400;src:local(Montserrat Italic),local(Montserrat-Italic),url(https://fonts.gstatic.com/s/montserrat/v14/JTUQjIg1_i6t8kCHKm459WxRyS7j.ttf) format(\\'truetype\\')}@font-face{font-family:Montserrat;font-style:italic;font-weight:500;src:local(Montserrat Medium Italic),local(Montserrat-MediumItalic),url(https://fonts.gstatic.com/s/montserrat/v14/JTUPjIg1_i6t8kCHKm459WxZOg3z_PZ1.ttf) format(\\'truetype\\')}@font-face{font-family:Montserrat;font-style:italic;font-weight:600;src:local(Montserrat SemiBold Italic),local(Montserrat-SemiBoldItalic),url(https://fonts.gstatic.com/s/montserrat/v14/JTUPjIg1_i6t8kCHKm459WxZFgrz_PZ1.ttf) format(\\'truetype\\')}@font-face{font-family:Montserrat;font-style:italic;font-weight:700;src:local(Montserrat Bold Italic),local(Montserrat-BoldItalic),url(https://fonts.gstatic.com/s/montserrat/v14/JTUPjIg1_i6t8kCHKm459WxZcgvz_PZ1.ttf) format(\\'truetype\\')}@font-face{font-family:Montserrat;font-style:italic;font-weight:800;src:local(Montserrat ExtraBold Italic),local(Montserrat-ExtraBoldItalic),url(https://fonts.gstatic.com/s/montserrat/v14/JTUPjIg1_i6t8kCHKm459WxZbgjz_PZ1.ttf) format(\\'truetype\\')}@font-face{font-family:Montserrat;font-style:italic;font-weight:900;src:local(Montserrat #000 Italic),local(Montserrat-BlackItalic),url(https://fonts.gstatic.com/s/montserrat/v14/JTUPjIg1_i6t8kCHKm459WxZSgnz_PZ1.ttf) format(\\'truetype\\')}@font-face{font-family:Montserrat;font-style:normal;font-weight:100;src:local(Montserrat Thin),local(Montserrat-Thin),url(https://fonts.gstatic.com/s/montserrat/v14/JTUQjIg1_i6t8kCHKm45_QpRyS7j.ttf) format(\\'truetype\\')}@font-face{font-family:Montserrat;font-style:normal;font-weight:200;src:local(Montserrat ExtraLight),local(Montserrat-ExtraLight),url(https://fonts.gstatic.com/s/montserrat/v14/JTURjIg1_i6t8kCHKm45_aZA3gnD-w.ttf) format(\\'truetype\\')}@font-face{font-family:Montserrat;font-style:normal;font-weight:300;src:local(Montserrat Light),local(Montserrat-Light),url(https://fonts.gstatic.com/s/montserrat/v14/JTURjIg1_i6t8kCHKm45_cJD3gnD-w.ttf) format(\\'truetype\\')}@font-face{font-family:Montserrat;font-style:normal;font-weight:400;src:local(Montserrat Regular),local(Montserrat-Regular),url(https://fonts.gstatic.com/s/montserrat/v14/JTUSjIg1_i6t8kCHKm459Wlhzg.ttf) format(\\'truetype\\')}@font-face{font-family:Montserrat;font-style:normal;font-weight:500;src:local(Montserrat Medium),local(Montserrat-Medium),url(https://fonts.gstatic.com/s/montserrat/v14/JTURjIg1_i6t8kCHKm45_ZpC3gnD-w.ttf) format(\\'truetype\\')}@font-face{font-family:Montserrat;font-style:normal;font-weight:600;src:local(Montserrat SemiBold),local(Montserrat-SemiBold),url(https://fonts.gstatic.com/s/montserrat/v14/JTURjIg1_i6t8kCHKm45_bZF3gnD-w.ttf) format(\\'truetype\\')}@font-face{font-family:Montserrat;font-style:normal;font-weight:700;src:local(Montserrat Bold),local(Montserrat-Bold),url(https://fonts.gstatic.com/s/montserrat/v14/JTURjIg1_i6t8kCHKm45_dJE3gnD-w.ttf) format(\\'truetype\\')}@font-face{font-family:Montserrat;font-style:normal;font-weight:800;src:local(Montserrat ExtraBold),local(Montserrat-ExtraBold),url(https://fonts.gstatic.com/s/montserrat/v14/JTURjIg1_i6t8kCHKm45_c5H3gnD-w.ttf) format(\\'truetype\\')}@font-face{font-family:Montserrat;font-style:normal;font-weight:900;src:local(Montserrat #000),local(Montserrat-Black),url(https://fonts.gstatic.com/s/montserrat/v14/JTURjIg1_i6t8kCHKm45_epG3gnD-w.ttf) format(\\'truetype\\')}@font-face{font-family:Montserrat;font-style:italic;font-weight:400;src:local(Montserrat Italic),local(Montserrat-Italic),url(https://fonts.gstatic.com/s/montserrat/v14/JTUQjIg1_i6t8kCHKm459WxRyS7j.ttf) format(\\'truetype\\')}@font-face{font-family:Montserrat;font-style:normal;font-weight:300;src:local(Montserrat Light),local(Montserrat-Light),url(https://fonts.gstatic.com/s/montserrat/v14/JTURjIg1_i6t8kCHKm45_cJD3gnD-w.ttf) format(\\'truetype\\')}@font-face{font-family:Montserrat;font-style:normal;font-weight:400;src:local(Montserrat Regular),local(Montserrat-Regular),url(https://fonts.gstatic.com/s/montserrat/v14/JTUSjIg1_i6t8kCHKm459Wlhzg.ttf) format(\\'truetype\\')}@font-face{font-family:Montserrat;font-style:normal;font-weight:700;src:local(Montserrat Bold),local(Montserrat-Bold),url(https://fonts.gstatic.com/s/montserrat/v14/JTURjIg1_i6t8kCHKm45_dJE3gnD-w.ttf) format(\\'truetype\\')}@font-face{font-family:\\'Titillium Web\\';font-style:normal;font-weight:300;src:local(Titillium Web Light),local(TitilliumWeb-Light),url(https://fonts.gstatic.com/s/titilliumweb/v8/NaPDcZTIAOhVxoMyOr9n_E7ffGjEGItzZg.ttf) format(\\'truetype\\')}Codeup’s Data Science Career Accelerator is Here! - Codeup {\"@context\":\"https://schema.org\",\"@graph\":[{\"@type\":\"WebSite\",\"@id\":\"https://codeup.com/#website\",\"url\":\"https://codeup.com/\",\"name\":\"Codeup\",\"description\":\"A 18 week bootcamp designed and dedicated to finding you a job or half your tuition back.\",\"potentialAction\":[{\"@type\":\"SearchAction\",\"target\":\"https://codeup.com/?s={search_term_string}\",\"query-input\":\"required name=search_term_string\"}],\"inLanguage\":\"en-US\"},{\"@type\":\"ImageObject\",\"@id\":\"https://codeup.com/codeups-data-science-career-accelerator-is-here/#primaryimage\",\"inLanguage\":\"en-US\",\"url\":\"https://codeup.com/wp-content/uploads/2018/10/data-science-3-1.jpg\",\"width\":700,\"height\":400,\"caption\":\"Data Science description and diagram | Code Tech Bootcamp\"},{\"@type\":\"WebPage\",\"@id\":\"https://codeup.com/codeups-data-science-career-accelerator-is-here/#webpage\",\"url\":\"https://codeup.com/codeups-data-science-career-accelerator-is-here/\",\"name\":\"Codeup\\\\u2019s Data Science Career Accelerator is Here! - Codeup\",\"isPartOf\":{\"@id\":\"https://codeup.com/#website\"},\"primaryImageOfPage\":{\"@id\":\"https://codeup.com/codeups-data-science-career-accelerator-is-here/#primaryimage\"},\"datePublished\":\"2018-09-30T05:26:22+00:00\",\"dateModified\":\"2020-02-24T19:36:02+00:00\",\"author\":{\"@id\":\"https://codeup.com/#/schema/person/2da79c93ec98c5cc93026bee26751d2d\"},\"inLanguage\":\"en-US\",\"potentialAction\":[{\"@type\":\"ReadAction\",\"target\":[\"https://codeup.com/codeups-data-science-career-accelerator-is-here/\"]}]},{\"@type\":[\"Person\"],\"@id\":\"https://codeup.com/#/schema/person/2da79c93ec98c5cc93026bee26751d2d\",\"name\":\"Dimitri Antoniou\",\"image\":{\"@type\":\"ImageObject\",\"@id\":\"https://codeup.com/#personlogo\",\"inLanguage\":\"en-US\",\"url\":\"https://secure.gravatar.com/avatar/93de526b43bcb7724e3fd731d1bc2c96?s=96&d=mm&r=g\",\"caption\":\"Dimitri Antoniou\"}}]} <style>@charset \"UTF-8\";@charset \"UTF-8\";div{box-sizing:border-box}@font-face{font-family:\\'FontAwesome\\';src:url(../fonts/fontawesome-webfont.eot?v=4.7.0);src:url(../fonts/fontawesome-webfont.eot?#iefix&v=4.7.0) format(\\'embedded-opentype\\'),url(../fonts/fontawesome-webfont.woff2?v=4.7.0) format(\\'woff2\\'),url(../fonts/fontawesome-webfont.woff?v=4.7.0) format(\\'woff\\'),url(../fonts/fontawesome-webfont.ttf?v=4.7.0) format(\\'truetype\\'),url(../fonts/fontawesome-webfont.svg?v=4.7.0#fontawesomeregular) format(\\'svg\\');font-weight:400;font-style:normal}.fa{display:inline-block;font:normal normal normal 14px/1 FontAwesome;font-size:inherit;text-rendering:auto;-webkit-font-smoothing:antialiased;-moz-osx-font-smoothing:grayscale}.fa-search:before{content:\"\\\\f002\"}.fa-bars:before{content:\"\\\\f0c9\"}@font-face{font-family:\\'FontAwesome\\';src:url(../fonts/fontawesome-webfont.eot?v=4.7.0);src:url(../fonts/fontawesome-webfont.eot?#iefix&v=4.7.0) format(\\'embedded-opentype\\'),url(../fonts/fontawesome-webfont.woff2?v=4.7.0) format(\\'woff2\\'),url(../fonts/fontawesome-webfont.woff?v=4.7.0) format(\\'woff\\'),url(../fonts/fontawesome-webfont.ttf?v=4.7.0) format(\\'truetype\\'),url(../fonts/fontawesome-webfont.svg?v=4.7.0#fontawesomeregular) format(\\'svg\\');font-weight:400;font-style:normal}.fa{display:inline-block;font:normal normal normal 14px/1 FontAwesome;font-size:inherit;text-rendering:auto;-webkit-font-smoothing:antialiased;-moz-osx-font-smoothing:grayscale}.fa-search:before{content:\"\\\\f002\"}.fa-bars:before{content:\"\\\\f0c9\"}@font-face{font-family:\\'Montserrat\\';font-style:normal;font-weight:400;src:local(\\'Montserrat Regular\\'),local(\\'Montserrat-Regular\\'),url(https://fonts.gstatic.com/s/montserrat/v14/JTUSjIg1_i6t8kCHKm459Wlhzg.ttf) format(\\'truetype\\')}@charset \\'UTF-8\\';@charset \"UTF-8\";@charset \"utf-8\";@charset \"utf-8\";@charset \"utf-8\";@charset \"utf-8\";:root{--blue:#007bff;--indigo:#6610f2;--purple:#6f42c1;--pink:#e83e8c;--red:#dc3545;--orange:#fd7e14;--yellow:#ffc107;--green:#28a745;--teal:#20c997;--cyan:#17a2b8;--white:#fff;--gray:#6c757d;--gray-dark:#343a40;--primary:#007bff;--secondary:#6c757d;--success:#28a745;--info:#17a2b8;--warning:#ffc107;--danger:#dc3545;--light:#f8f9fa;--dark:#343a40;--breakpoint-xs:0;--breakpoint-sm:576px;--breakpoint-md:768px;--breakpoint-lg:992px;--breakpoint-xl:1200px;--font-family-sans-serif:-apple-system,BlinkMacSystemFont,\"Segoe UI\",Roboto,\"Helvetica Neue\",Arial,sans-serif,\"Apple Color Emoji\",\"Segoe UI Emoji\",\"Segoe UI Symbol\";--font-family-monospace:SFMono-Regular,Menlo,Monaco,Consolas,\"Liberation Mono\",\"Courier New\",monospace}*,*::before,*::after{-webkit-box-sizing:border-box;box-sizing:border-box}html{font-family:sans-serif;line-height:1.15;-webkit-text-size-adjust:100%;-ms-text-size-adjust:100%;-ms-overflow-style:scrollbar}@-ms-viewport{width:device-width}article,header,main,nav,section{display:block}body{text-align:left;background:#fff;background-size:auto;margin-top:0;margin-right:0;margin-bottom:0;margin-left:0}body .jupiterx-site{font-size:16px;color:#212529;line-height:1.5}h1,h2,h5{margin-top:0;margin-bottom:.5rem}p{margin-top:0;margin-bottom:1rem}ul{margin-top:0;margin-bottom:1rem}ul ul{margin-bottom:0}strong{font-weight:bolder}a{color:#8db559;text-decoration:none;background-color:transparent;-webkit-text-decoration-skip:objects}img{vertical-align:middle;border-style:none}input{margin:0;font-family:inherit;font-size:inherit;line-height:inherit}input{overflow:visible}[type=\"search\"]{outline-offset:-2px;-webkit-appearance:none}[type=\"search\"]::-webkit-search-cancel-button,[type=\"search\"]::-webkit-search-decoration{-webkit-appearance:none}::-webkit-file-upload-button{font:inherit;-webkit-appearance:button}h1,h2,h5{margin-bottom:.5rem;font-family:inherit;color:inherit}h1{font-size:40px;font-weight:500;line-height:1.2}h2{font-size:35px;font-weight:500;line-height:1.2}h5{font-size:16px;font-weight:700;line-height:1.2}.list-inline{padding-left:0;list-style:none}.container{width:100%;padding-right:20px;padding-left:20px;margin-right:auto;margin-left:auto;max-width:1140px}.row{display:-webkit-box;display:-ms-flexbox;display:flex;-ms-flex-wrap:wrap;flex-wrap:wrap;margin-right:-15px;margin-left:-15px}.col-lg-12{position:relative;width:100%;min-height:1px;padding-right:15px;padding-left:15px}.clearfix::after{display:block;clear:both;content:\"\"}.jupiterx-a11y-skip-navigation-link{position:absolute;top:-1000em}.jupiterx-header{position:relative;z-index:100;width:100%}.jupiterx-main{position:relative;z-index:20;background-color:#fff;background-position:top left;background-repeat:no-repeat;background-attachment:scroll;background-size:auto}.jupiterx-main-content{padding:24px 0;word-wrap:break-word}.jupiterx-main-content>.container>.row{margin-right:-20px;margin-left:-20px}.jupiterx-main-content>.container>.row>[class*=col-]{padding-right:20px;padding-left:20px}.jupiterx-post-meta{font-size:14px;color:#6c757d}.aio-gdpr a{color:#9b4dca;text-decoration:none}.aio-gdpr p{margin-top:0}.aio-gdpr .cookie-notice{box-sizing:border-box;position:fixed;bottom:32px;left:50%;width:600px;z-index:999999999999;margin-left:-300px;padding:12px;z-index:9999;background:white;box-shadow:0 0 9px 1px rgba(20,40,80,.2);border-radius:5px;font-size:.86em;line-height:1.5;color:#456;transform:translate3d(0,0,0)}@media only screen and (max-width:600px){.aio-gdpr .cookie-notice{border-radius:0;bottom:0;left:0;box-shadow:0 1px 6px 0 rgba(20,40,80,.2);width:100%;margin-left:0}}.aio-gdpr .cookie-notice-message>p{margin:0;padding:0;width:70%}.aio-gdpr .cookie-notice>.gdpr-btn{margin:0;padding:0;border:0;border-radius:0;background:transparent;width:20%;color:dodgerblue;position:absolute;top:8px;right:0;width:14%;bottom:8px;font-weight:700;border-left:solid 1px rgba(0,40,80,.1);font-weight:400}.aio-gdpr .cookie-notice>.gdpr-btn a{color:inherit;text-decoration:none;font-weight:400;font-size:16px;white-space:normal;display:table-cell;vertical-align:middle}.aio-gdpr .cookie-notice>.gdpr-btn{display:flex;justify-content:center;align-items:center;text-align:center}.aio-gdpr .cookie-notice>.gdpr-btn.btn-privacy-center{transform:translateX(-100%);color:#5cb85c}.elementor-clearfix:after{content:\"\";display:block;clear:both;width:0;height:0}.elementor{-webkit-hyphens:manual;-ms-hyphens:manual;hyphens:manual}.elementor *,.elementor :after,.elementor :before{-webkit-box-sizing:border-box;box-sizing:border-box}.elementor a{-webkit-box-shadow:none;box-shadow:none;text-decoration:none}.elementor img{height:auto;max-width:100%;border:none;-webkit-border-radius:0;border-radius:0;-webkit-box-shadow:none;box-shadow:none}.elementor video{max-width:100%;width:100%;margin:0;line-height:1;border:none}.elementor .elementor-background-video-container{height:100%;width:100%;top:0;left:0;position:absolute;overflow:hidden;z-index:0;direction:ltr}.elementor .elementor-background-video-hosted{position:absolute;top:50%;left:50%;-webkit-transform:translateX(-50%) translateY(-50%);-ms-transform:translateX(-50%) translateY(-50%);transform:translateX(-50%) translateY(-50%)}.elementor .elementor-html5-video{-o-object-fit:cover;object-fit:cover}.elementor .elementor-background-overlay{height:100%;width:100%;top:0;left:0;position:absolute}.elementor-section{position:relative}.elementor-section .elementor-container{display:-webkit-box;display:-webkit-flex;display:-ms-flexbox;display:flex;margin-right:auto;margin-left:auto;position:relative}.elementor-section.elementor-section-boxed>.elementor-container{max-width:1140px}.elementor-section.elementor-section-stretched{position:relative;width:100%}.elementor-section.elementor-section-items-middle>.elementor-container{-webkit-box-align:center;-webkit-align-items:center;-ms-flex-align:center;align-items:center}.elementor-section.elementor-section-items-bottom>.elementor-container{-webkit-box-align:end;-webkit-align-items:flex-end;-ms-flex-align:end;align-items:flex-end}.elementor-row{width:100%;display:-webkit-box;display:-webkit-flex;display:-ms-flexbox;display:flex}@media (max-width:1024px){.elementor-row{-webkit-flex-wrap:wrap;-ms-flex-wrap:wrap;flex-wrap:wrap}}.elementor-column-wrap{width:100%;position:relative;display:-webkit-box;display:-webkit-flex;display:-ms-flexbox;display:flex}.elementor-widget-wrap{position:relative;width:100%;-webkit-flex-wrap:wrap;-ms-flex-wrap:wrap;flex-wrap:wrap;-webkit-align-content:flex-start;-ms-flex-line-pack:start;align-content:flex-start}.elementor:not(.elementor-bc-flex-widget) .elementor-widget-wrap{display:-webkit-box;display:-webkit-flex;display:-ms-flexbox;display:flex}.elementor-widget-wrap>.elementor-element{width:100%}.elementor-widget{position:relative}.elementor-widget:not(:last-child){margin-bottom:20px}.elementor-column{position:relative;min-height:1px;display:-webkit-box;display:-webkit-flex;display:-ms-flexbox;display:flex}.elementor-column-gap-default>.elementor-row>.elementor-column>.elementor-element-populated{padding:10px}@media (max-width:767px){.elementor-column{width:100%}}.elementor-button{display:inline-block;line-height:1;background-color:#818a91;color:#fff;fill:#fff;text-align:center}.elementor-button-content-wrapper{display:-webkit-box;display:-webkit-flex;display:-ms-flexbox;display:flex;-webkit-box-pack:center;-webkit-justify-content:center;-ms-flex-pack:center;justify-content:center}.elementor-button-text{-webkit-box-flex:1;-webkit-flex-grow:1;-ms-flex-positive:1;flex-grow:1;-webkit-box-ordinal-group:11;-webkit-order:10;-ms-flex-order:10;order:10;display:inline-block}.elementor-button.elementor-size-sm{font-size:15px;padding:12px 24px;-webkit-border-radius:3px;border-radius:3px}.elementor-button span{text-decoration:inherit}@media (max-width:767px){.elementor:not(.elementor-edit-area-active) .elementor-hidden-phone{display:none}}.raven-column-flex-horizontal>.elementor-column-wrap>.elementor-widget-wrap{display:-webkit-box;display:-ms-flexbox;display:flex}.raven-column-flex-horizontal>.elementor-column-wrap>.elementor-widget-wrap>.elementor-widget:not(:last-child){margin-bottom:0}.raven-column-flex-horizontal>.elementor-column-wrap .elementor-widget-wrap>.elementor-element{width:auto}.raven-search-form .raven-search-form-input{min-width:0;margin:0;padding:6px 12px;border:none;background-color:transparent;line-height:1;-webkit-appearance:none;-moz-appearance:none}.raven-search-form .raven-search-form-input::-webkit-input-placeholder{color:inherit}.raven-search-form .raven-search-form-input::-moz-placeholder{color:inherit}.raven-search-form .raven-search-form-input:-ms-input-placeholder{color:inherit}.raven-search-form .raven-search-form-input:-moz-placeholder{color:inherit}.raven-search-form .raven-search-form-button{border:none;border-radius:0;background:0 0;line-height:1}.raven-search-form .raven-search-form-lightbox{display:-webkit-box;display:-ms-flexbox;display:flex;position:fixed;top:0;right:0;bottom:0;left:0;-webkit-box-align:center;-ms-flex-align:center;align-items:center;-webkit-box-pack:center;-ms-flex-pack:center;justify-content:center;width:100%;height:100vh;background-color:rgba(0,0,0,.94);opacity:0;visibility:hidden;z-index:99999}.raven-search-form .raven-search-form-close{display:block;position:absolute;top:20px;right:20px;padding:8px;color:#fff;font-size:28px;line-height:1}.raven-search-form .raven-search-form-button{padding:0 12px}.raven-search-form-full .raven-search-form-button{padding:8px;background:rgba(0,0,0,.1);color:#000;font-size:18px}.raven-search-form-full .raven-search-form-input{width:800px;max-width:85%;padding:20px;border-width:0 0 3px 0;border-style:solid;border-color:rgba(255,255,255,.1);color:#fff;font-size:35px;text-align:center}.raven-search-form-full .raven-search-form-container{font-size:0}.raven-nav-menu::after{display:block;height:0;clear:both;font-family:serif;font-size:0;line-height:0;content:\\'\\';overflow:hidden}.raven-nav-menu,.raven-nav-menu li.menu-item,.raven-nav-menu ul.raven-submenu,.raven-nav-menu ul.sub-menu{display:block;margin:0;padding:0;line-height:normal;list-style:none}.raven-nav-menu a.raven-link-item,.raven-nav-menu li.menu-item{position:relative}.raven-nav-menu li.menu-item>a.raven-link-item{display:-webkit-box;display:-ms-flexbox;display:flex;-webkit-box-align:center;-ms-flex-align:center;align-items:center;-webkit-box-pack:justify;-ms-flex-pack:justify;justify-content:space-between;padding:10px 0}.raven-nav-menu ul.sub-menu:not([class*=elementor]){display:none}.raven-nav-menu ul.sub-menu:not([class*=elementor]) li.menu-item a.raven-link-item{-webkit-box-pack:justify;-ms-flex-pack:justify;justify-content:space-between}.raven-nav-menu-align-right .raven-nav-menu-horizontal .raven-nav-menu{-webkit-box-pack:end;-ms-flex-pack:end;justify-content:flex-end}.raven-nav-menu-main{display:block}@media (max-width:1024px){.raven-breakpoint-tablet .raven-nav-menu-main{display:none}}.raven-nav-menu-toggle{display:none;line-height:0;text-align:center}@media (max-width:1024px){.raven-breakpoint-tablet .raven-nav-menu-toggle{display:block}}.raven-nav-menu-toggle-button{display:inline-block;font-size:24px;font-weight:400;line-height:1}.raven-nav-menu-mobile{display:none;position:relative;z-index:1000;overflow-y:auto;-ms-scroll-chaining:chained;overscroll-behavior:contain}.raven-nav-menu-stretch .raven-nav-menu-mobile{position:absolute}.raven-nav-menu-dropdown{padding:10px 0;background-color:#fafafa}.raven-nav-menu-dropdown a:not([class*=elementor]){padding:10px 15px}.raven-nav-menu-dropdown .raven-container{width:100%;margin:0 auto}.raven-site-logo img{max-width:250px}@media (max-width:1024px) and (min-width:768px){.raven-site-logo .raven-site-logo-tablet{display:inline}}@media (max-width:767px){.raven-site-logo .raven-site-logo-desktop,.raven-site-logo .raven-site-logo-tablet{display:none}.raven-site-logo .raven-site-logo-mobile{display:inline}}.elementor-widget-raven-flex-spacer{-ms-flex-preferred-size:0;flex-basis:0%;-webkit-box-flex:1;-ms-flex-positive:1;flex-grow:1;-ms-flex-negative:1;flex-shrink:1}.elementor-widget-text-editor{color:#282828;font-family:\"Montserrat\",Sans-serif;font-weight:400}.elementor-widget-button a.elementor-button,.elementor-widget-button .elementor-button{font-family:\"Montserrat\",Sans-serif;font-weight:500;background-color:#8db559}.elementor-widget-raven-nav-menu .raven-nav-menu-main .raven-nav-menu>li>a.raven-menu-item{font-family:\"Montserrat\",Sans-serif;font-weight:400;color:#282828}.elementor-widget-raven-nav-menu .raven-nav-menu-main .raven-submenu>li>a.raven-submenu-item{font-family:\"Montserrat\",Sans-serif;font-weight:400;color:#282828}.elementor-widget-raven-nav-menu .raven-nav-menu-mobile .raven-nav-menu li>a{font-family:\"Montserrat\",Sans-serif;font-weight:400;color:#282828}.elementor-widget-raven-nav-menu .raven-nav-menu-toggle-button{color:#282828}.elementor-widget-raven-search-form .raven-search-form-input{font-family:\"Montserrat\",Sans-serif;font-weight:400}.elementor-2 .elementor-element.elementor-element-be47bd6>.elementor-container{max-width:960px;min-height:400px}.elementor-2 .elementor-element.elementor-element-be47bd6>.elementor-container:after{content:\"\";min-height:inherit}.elementor-2 .elementor-element.elementor-element-be47bd6>.elementor-container>.elementor-row>.elementor-column>.elementor-column-wrap>.elementor-widget-wrap{align-content:flex-end;align-items:flex-end}.elementor-2 .elementor-element.elementor-element-c5d87e9>.elementor-element-populated{padding:10px 10px 40px 10px}.elementor-2 .elementor-element.elementor-element-e8e2593 a.elementor-button,.elementor-2 .elementor-element.elementor-element-e8e2593 .elementor-button{fill:#181d32;color:#181d32;background-color:#fff;border-radius:8px 8px 8px 8px}.elementor-2 .elementor-element.elementor-element-be47bd6:not(.elementor-motion-effects-element-type-background){background:url(\"https://codeupnew1.wpengine.com/wp-content/uploads/2019/10/scottball_codeup_tech_coding-school_education_phillip-hernandez_dimitri-antoniou_9-25-2018-2.jpg\") 50% 50%;background-size:cover}.elementor-2 .elementor-element.elementor-element-be47bd6>.elementor-background-overlay{background-color:#0c0c0c;opacity:.5}.elementor-2 .elementor-element.elementor-element-edea20a>.elementor-container{max-width:960px}.elementor-2 .elementor-element.elementor-element-09a84b6>.elementor-column-wrap>.elementor-widget-wrap>.elementor-widget:not(.elementor-widget__width-auto):not(.elementor-widget__width-initial):not(:last-child):not(.elementor-absolute){margin-bottom:0}.elementor-2 .elementor-element.elementor-element-09a84b6>.elementor-element-populated{padding:40px 10px 50px 10px}.elementor-2 .elementor-element.elementor-element-05b701c{color:#fff}.elementor-2 .elementor-element.elementor-element-9e13b0b a.elementor-button,.elementor-2 .elementor-element.elementor-element-9e13b0b .elementor-button{fill:#181d32;color:#181d32;background-color:#fff;border-radius:8px 8px 8px 8px}.elementor-2 .elementor-element.elementor-element-edea20a:not(.elementor-motion-effects-element-type-background){background-color:#181d32}.elementor-2 .elementor-element.elementor-element-3fcc2d5>.elementor-container{max-width:960px}.elementor-2 .elementor-element.elementor-element-efa9e52>.elementor-column-wrap>.elementor-widget-wrap>.elementor-widget:not(.elementor-widget__width-auto):not(.elementor-widget__width-initial):not(:last-child):not(.elementor-absolute){margin-bottom:0}.elementor-2 .elementor-element.elementor-element-efa9e52>.elementor-element-populated{padding:30px 10px 50px 10px}.elementor-2 .elementor-element.elementor-element-5701810 .elementor-text-editor{text-align:center}.elementor-2 .elementor-element.elementor-element-5701810{color:#8db559}.elementor-2 .elementor-element.elementor-element-04af2dc .elementor-text-editor{text-align:center}.elementor-2 .elementor-element.elementor-element-7bb6c63>.elementor-column-wrap>.elementor-widget-wrap>.elementor-widget:not(.elementor-widget__width-auto):not(.elementor-widget__width-initial):not(:last-child):not(.elementor-absolute){margin-bottom:0}.elementor-2 .elementor-element.elementor-element-7bb6c63>.elementor-element-populated{padding:30px 10px 50px 10px}.elementor-2 .elementor-element.elementor-element-55f8117 .elementor-text-editor{text-align:center}.elementor-2 .elementor-element.elementor-element-55f8117{color:#8db559}.elementor-2 .elementor-element.elementor-element-f2126bb .elementor-text-editor{text-align:center}.elementor-2 .elementor-element.elementor-element-986cf84>.elementor-column-wrap>.elementor-widget-wrap>.elementor-widget:not(.elementor-widget__width-auto):not(.elementor-widget__width-initial):not(:last-child):not(.elementor-absolute){margin-bottom:0}.elementor-2 .elementor-element.elementor-element-986cf84>.elementor-element-populated{padding:30px 10px 50px 10px}.elementor-2 .elementor-element.elementor-element-88c580f .elementor-text-editor{text-align:center}.elementor-2 .elementor-element.elementor-element-88c580f{color:#8db559}.elementor-2 .elementor-element.elementor-element-f4145ae .elementor-text-editor{text-align:center}.elementor-2 .elementor-element.elementor-element-ed35036>.elementor-column-wrap>.elementor-widget-wrap>.elementor-widget:not(.elementor-widget__width-auto):not(.elementor-widget__width-initial):not(:last-child):not(.elementor-absolute){margin-bottom:0}.elementor-2 .elementor-element.elementor-element-ed35036>.elementor-element-populated{padding:30px 10px 50px 10px}.elementor-2 .elementor-element.elementor-element-ecf8404 .elementor-text-editor{text-align:center}.elementor-2 .elementor-element.elementor-element-ecf8404{color:#8db559}.elementor-2 .elementor-element.elementor-element-f031a30 .elementor-text-editor{text-align:center}.elementor-2 .elementor-element.elementor-element-3fcc2d5:not(.elementor-motion-effects-element-type-background){background-color:#f7f7f7}.elementor-2 .elementor-element.elementor-element-3fcc2d5{padding:20px 0 20px 0}.elementor-2 .elementor-element.elementor-element-cd18f5b>.elementor-container{max-width:960px}.elementor-2 .elementor-element.elementor-element-3cda8f4>.elementor-column-wrap>.elementor-widget-wrap>.elementor-widget:not(.elementor-widget__width-auto):not(.elementor-widget__width-initial):not(:last-child):not(.elementor-absolute){margin-bottom:0}.elementor-2 .elementor-element.elementor-element-3cda8f4>.elementor-element-populated{padding:30px 10px 50px 10px}.elementor-2 .elementor-element.elementor-element-bc621a9 .elementor-text-editor{text-align:left}.elementor-2 .elementor-element.elementor-element-7b6219f{padding:20px 0 0 0}.elementor-2 .elementor-element.elementor-element-cd18f5b:not(.elementor-motion-effects-element-type-background){background-color:#fff}.elementor-2 .elementor-element.elementor-element-cd18f5b{padding:20px 0 20px 0}@media (max-width:767px){.elementor-2 .elementor-element.elementor-element-e8e2593>.elementor-widget-container{padding:0 0 30px 0}}.elementor-4434 .elementor-element.elementor-element-5a85b278>.elementor-container{min-height:90px}.elementor-4434 .elementor-element.elementor-element-5a85b278>.elementor-container:after{content:\"\";min-height:inherit}.elementor-4434 .elementor-element.elementor-element-59f2d61.elementor-column .elementor-column-wrap{align-items:center}.elementor-4434 .elementor-element.elementor-element-59f2d61.elementor-column .elementor-column-wrap .elementor-widget-wrap{align-items:center}.elementor-4434 .elementor-element.elementor-element-c6cd492 .raven-site-logo{text-align:left}.elementor-4434 .elementor-element.elementor-element-438a94f.elementor-column .elementor-column-wrap{align-items:center}.elementor-4434 .elementor-element.elementor-element-438a94f.elementor-column .elementor-column-wrap .elementor-widget-wrap{align-items:center}.elementor-4434 .elementor-element.elementor-element-2eb0758 .raven-nav-menu-horizontal .raven-nav-menu>li:not(:last-child){margin-right:20px}.elementor-4434 .elementor-element.elementor-element-2eb0758 .raven-nav-menu-main .raven-nav-menu>li>a.raven-menu-item{padding:5px 5px 5px 5px;color:#000;background-color:rgba(211,211,211,0);border-color:rgba(0,0,0,0);border-style:solid;border-width:0 0 2px 0}.elementor-4434 .elementor-element.elementor-element-2eb0758 .raven-nav-menu-mobile .raven-nav-menu li>a{font-size:28px;text-transform:uppercase;padding:30px 0 30px 30px;color:#000}.elementor-4434 .elementor-element.elementor-element-2eb0758 .raven-nav-menu-mobile .raven-nav-menu li:not(:last-child){border-bottom-style:solid;border-color:#ddd;border-bottom-width:1px}.elementor-4434 .elementor-element.elementor-element-2eb0758 .raven-nav-menu-mobile .raven-submenu{border-top-style:solid;border-color:#ddd;border-top-width:1px}.elementor-4434 .elementor-element.elementor-element-2eb0758 .raven-nav-menu-toggle-button{font-size:24px;color:#000}.elementor-4434 .elementor-element.elementor-element-2eb0758 .raven-nav-menu-toggle{text-align:right}.elementor-4434 .elementor-element.elementor-element-2eb0758 .raven-nav-menu-mobile{background-color:#eee}.elementor-4434 .elementor-element.elementor-element-2eb0758>.elementor-widget-container{margin:20px 50px 0 0}.elementor-4434 .elementor-element.elementor-element-d386fb2 .raven-search-form-button{font-size:20px;background-color:rgba(0,0,0,0)}.elementor-4434 .elementor-element.elementor-element-d386fb2 .raven-search-form-container{text-align:right}.elementor-4434 .elementor-element.elementor-element-d386fb2>.elementor-widget-container{margin:20px 20px 0 0}.elementor-4434 .elementor-element.elementor-element-5a85b278:not(.elementor-motion-effects-element-type-background){background-color:#fff}@media (max-width:1024px){.elementor-4434 .elementor-element.elementor-element-2eb0758 .raven-nav-menu-mobile .raven-nav-menu li>a{font-size:16px;letter-spacing:2px;padding:20px 20px 20px 20px}.elementor-4434 .elementor-element.elementor-element-2eb0758>.elementor-widget-container{margin:15px 20px 14px 0}}@media (max-width:767px){.elementor-4434 .elementor-element.elementor-element-5a85b278>.elementor-container{min-height:70px}.elementor-4434 .elementor-element.elementor-element-5a85b278>.elementor-container:after{content:\"\";min-height:inherit}.elementor-4434 .elementor-element.elementor-element-59f2d61{width:60%}.elementor-4434 .elementor-element.elementor-element-c6cd492 .raven-site-logo img{width:100%}.elementor-4434 .elementor-element.elementor-element-438a94f{width:40%}.elementor-4434 .elementor-element.elementor-element-2eb0758 .raven-nav-menu-mobile .raven-nav-menu li>a{padding:15px 15px 15px 15px}.elementor-4434 .elementor-element.elementor-element-2eb0758>.elementor-widget-container{margin:0 20px 0 0}.elementor-4434 .elementor-element.elementor-element-d386fb2>.elementor-widget-container{margin:0 20px 0 0}}@font-face{font-family:\\'Montserrat\\';font-style:italic;font-weight:100;src:local(\\'Montserrat Thin Italic\\'),local(\\'Montserrat-ThinItalic\\'),url(https://fonts.gstatic.com/s/montserrat/v14/JTUOjIg1_i6t8kCHKm459WxZqh7k29Y.ttf) format(\\'truetype\\')}@font-face{font-family:\\'Montserrat\\';font-style:italic;font-weight:200;src:local(\\'Montserrat ExtraLight Italic\\'),local(\\'Montserrat-ExtraLightItalic\\'),url(https://fonts.gstatic.com/s/montserrat/v14/JTUPjIg1_i6t8kCHKm459WxZBg_z_PZ1.ttf) format(\\'truetype\\')}@font-face{font-family:\\'Montserrat\\';font-style:italic;font-weight:300;src:local(\\'Montserrat Light Italic\\'),local(\\'Montserrat-LightItalic\\'),url(https://fonts.gstatic.com/s/montserrat/v14/JTUPjIg1_i6t8kCHKm459WxZYgzz_PZ1.ttf) format(\\'truetype\\')}@font-face{font-family:\\'Montserrat\\';font-style:italic;font-weight:400;src:local(\\'Montserrat Italic\\'),local(\\'Montserrat-Italic\\'),url(https://fonts.gstatic.com/s/montserrat/v14/JTUQjIg1_i6t8kCHKm459WxRyS7j.ttf) format(\\'truetype\\')}@font-face{font-family:\\'Montserrat\\';font-style:italic;font-weight:500;src:local(\\'Montserrat Medium Italic\\'),local(\\'Montserrat-MediumItalic\\'),url(https://fonts.gstatic.com/s/montserrat/v14/JTUPjIg1_i6t8kCHKm459WxZOg3z_PZ1.ttf) format(\\'truetype\\')}@font-face{font-family:\\'Montserrat\\';font-style:italic;font-weight:600;src:local(\\'Montserrat SemiBold Italic\\'),local(\\'Montserrat-SemiBoldItalic\\'),url(https://fonts.gstatic.com/s/montserrat/v14/JTUPjIg1_i6t8kCHKm459WxZFgrz_PZ1.ttf) format(\\'truetype\\')}@font-face{font-family:\\'Montserrat\\';font-style:italic;font-weight:700;src:local(\\'Montserrat Bold Italic\\'),local(\\'Montserrat-BoldItalic\\'),url(https://fonts.gstatic.com/s/montserrat/v14/JTUPjIg1_i6t8kCHKm459WxZcgvz_PZ1.ttf) format(\\'truetype\\')}@font-face{font-family:\\'Montserrat\\';font-style:italic;font-weight:800;src:local(\\'Montserrat ExtraBold Italic\\'),local(\\'Montserrat-ExtraBoldItalic\\'),url(https://fonts.gstatic.com/s/montserrat/v14/JTUPjIg1_i6t8kCHKm459WxZbgjz_PZ1.ttf) format(\\'truetype\\')}@font-face{font-family:\\'Montserrat\\';font-style:italic;font-weight:900;src:local(\\'Montserrat Black Italic\\'),local(\\'Montserrat-BlackItalic\\'),url(https://fonts.gstatic.com/s/montserrat/v14/JTUPjIg1_i6t8kCHKm459WxZSgnz_PZ1.ttf) format(\\'truetype\\')}@font-face{font-family:\\'Montserrat\\';font-style:normal;font-weight:100;src:local(\\'Montserrat Thin\\'),local(\\'Montserrat-Thin\\'),url(https://fonts.gstatic.com/s/montserrat/v14/JTUQjIg1_i6t8kCHKm45_QpRyS7j.ttf) format(\\'truetype\\')}@font-face{font-family:\\'Montserrat\\';font-style:normal;font-weight:200;src:local(\\'Montserrat ExtraLight\\'),local(\\'Montserrat-ExtraLight\\'),url(https://fonts.gstatic.com/s/montserrat/v14/JTURjIg1_i6t8kCHKm45_aZA3gnD-w.ttf) format(\\'truetype\\')}@font-face{font-family:\\'Montserrat\\';font-style:normal;font-weight:300;src:local(\\'Montserrat Light\\'),local(\\'Montserrat-Light\\'),url(https://fonts.gstatic.com/s/montserrat/v14/JTURjIg1_i6t8kCHKm45_cJD3gnD-w.ttf) format(\\'truetype\\')}@font-face{font-family:\\'Montserrat\\';font-style:normal;font-weight:400;src:local(\\'Montserrat Regular\\'),local(\\'Montserrat-Regular\\'),url(https://fonts.gstatic.com/s/montserrat/v14/JTUSjIg1_i6t8kCHKm459Wlhzg.ttf) format(\\'truetype\\')}@font-face{font-family:\\'Montserrat\\';font-style:normal;font-weight:500;src:local(\\'Montserrat Medium\\'),local(\\'Montserrat-Medium\\'),url(https://fonts.gstatic.com/s/montserrat/v14/JTURjIg1_i6t8kCHKm45_ZpC3gnD-w.ttf) format(\\'truetype\\')}@font-face{font-family:\\'Montserrat\\';font-style:normal;font-weight:600;src:local(\\'Montserrat SemiBold\\'),local(\\'Montserrat-SemiBold\\'),url(https://fonts.gstatic.com/s/montserrat/v14/JTURjIg1_i6t8kCHKm45_bZF3gnD-w.ttf) format(\\'truetype\\')}@font-face{font-family:\\'Montserrat\\';font-style:normal;font-weight:700;src:local(\\'Montserrat Bold\\'),local(\\'Montserrat-Bold\\'),url(https://fonts.gstatic.com/s/montserrat/v14/JTURjIg1_i6t8kCHKm45_dJE3gnD-w.ttf) format(\\'truetype\\')}@font-face{font-family:\\'Montserrat\\';font-style:normal;font-weight:800;src:local(\\'Montserrat ExtraBold\\'),local(\\'Montserrat-ExtraBold\\'),url(https://fonts.gstatic.com/s/montserrat/v14/JTURjIg1_i6t8kCHKm45_c5H3gnD-w.ttf) format(\\'truetype\\')}@font-face{font-family:\\'Montserrat\\';font-style:normal;font-weight:900;src:local(\\'Montserrat Black\\'),local(\\'Montserrat-Black\\'),url(https://fonts.gstatic.com/s/montserrat/v14/JTURjIg1_i6t8kCHKm45_epG3gnD-w.ttf) format(\\'truetype\\')}.fa,.fas{-moz-osx-font-smoothing:grayscale;-webkit-font-smoothing:antialiased;display:inline-block;font-style:normal;font-variant:normal;text-rendering:auto;line-height:1}.fa-bars:before{content:\"\\\\f0c9\"}.fa-search:before{content:\"\\\\f002\"}@font-face{font-family:\"Font Awesome 5 Free\";font-style:normal;font-weight:900;font-display:auto;src:url(../webfonts/fa-solid-900.eot);src:url(../webfonts/fa-solid-900.eot?#iefix) format(\"embedded-opentype\"),url(../webfonts/fa-solid-900.woff2) format(\"woff2\"),url(../webfonts/fa-solid-900.woff) format(\"woff\"),url(../webfonts/fa-solid-900.ttf) format(\"truetype\"),url(../webfonts/fa-solid-900.svg#fontawesome) format(\"svg\")}.fa,.fas{font-family:\"Font Awesome 5 Free\";font-weight:900}@font-face{font-family:\\'Montserrat\\';font-style:italic;font-weight:400;font-display:swap;src:local(\\'Montserrat Italic\\'),local(\\'Montserrat-Italic\\'),url(https://fonts.gstatic.com/s/montserrat/v14/JTUQjIg1_i6t8kCHKm459WxRyS7j.ttf) format(\\'truetype\\')}@font-face{font-family:\\'Montserrat\\';font-style:normal;font-weight:300;font-display:swap;src:local(\\'Montserrat Light\\'),local(\\'Montserrat-Light\\'),url(https://fonts.gstatic.com/s/montserrat/v14/JTURjIg1_i6t8kCHKm45_cJD3gnD-w.ttf) format(\\'truetype\\')}@font-face{font-family:\\'Montserrat\\';font-style:normal;font-weight:400;font-display:swap;src:local(\\'Montserrat Regular\\'),local(\\'Montserrat-Regular\\'),url(https://fonts.gstatic.com/s/montserrat/v14/JTUSjIg1_i6t8kCHKm459Wlhzg.ttf) format(\\'truetype\\')}@font-face{font-family:\\'Montserrat\\';font-style:normal;font-weight:700;font-display:swap;src:local(\\'Montserrat Bold\\'),local(\\'Montserrat-Bold\\'),url(https://fonts.gstatic.com/s/montserrat/v14/JTURjIg1_i6t8kCHKm45_dJE3gnD-w.ttf) format(\\'truetype\\')} /*  */\\nvar wp_konami_code_js_local = {\"wp_konami_code_page\":\"https:\\\\/\\\\/codeup.com\\\\/konami-easter-egg\\\\/\"};\\n/*  */ if(navigator.userAgent.match(/x11.*fox\\\\/54|oid\\\\s4.*xus.*ome\\\\/62|oobot|ighth|tmetr|eadles|ingdo/i)){document.write(\"<script defer type=\\'text\\\\/javascript\\' src=\\'https:\\\\/\\\\/codeup.com\\\\/wp-content\\\\/uploads\\\\/cache\\\\/fvm\\\\/1590721502\\\\/out\\\\/header-5ab94a821b5b572c1dd66d693d16d349b577c00e.min.js\\'><\\\\/script>\");}else{document.write(\"<script type=\\'text\\\\/javascript\\' src=\\'https:\\\\/\\\\/codeup.com\\\\/wp-content\\\\/uploads\\\\/cache\\\\/fvm\\\\/1590721502\\\\/out\\\\/header-5ab94a821b5b572c1dd66d693d16d349b577c00e.min.js\\'><\\\\/script>\");} var _hsq = _hsq || [];\\n\\t\\t\\t\\t_hsq.push([\"setContentType\", \"blog-post\"]); !function(f,b,e,v,n,t,s)\\n  {if(f.fbq)return;n=f.fbq=function(){n.callMethod?\\n  n.callMethod.apply(n,arguments):n.queue.push(arguments)};\\n  if(!f._fbq)f._fbq=n;n.push=n;n.loaded=!0;n.version=\\'2.0\\';\\n  n.queue=[];t=b.createElement(e);t.async=!0;\\n  t.src=v;s=b.getElementsByTagName(e)[0];\\n  s.parentNode.insertBefore(t,s)}(window, document,\\'script\\',\\n  \\'https://connect.facebook.net/en_US/fbevents.js\\');\\n  fbq(\\'init\\', \\'1569157240057771\\');\\n  fbq(\\'track\\', \\'PageView\\');   window.dataLayer = window.dataLayer || [];\\n  function gtag(){dataLayer.push(arguments);}\\n  gtag(\\'js\\', new Date());\\n\\n  gtag(\\'config\\', \\'UA-80979492-1\\');  (function(h,o,t,j,a,r){\\n        h.hj=h.hj||function(){(h.hj.q=h.hj.q||[]).push(arguments)};\\n        h._hjSettings={hjid:1666465,hjsv:6};\\n        a=o.getElementsByTagName(\\'head\\')[0];\\n        r=o.createElement(\\'script\\');r.async=1;\\n        r.src=t+h._hjSettings.hjid+j+h._hjSettings.hjsv;\\n        a.appendChild(r);\\n    })(window,document,\\'https://static.hotjar.com/c/hotjar-\\',\\'.js?sv=\\');  window.dataLayer = window.dataLayer || [];\\n  function gtag(){dataLayer.push(arguments);}\\n  gtag(\\'js\\', new Date());\\n  gtag(\\'config\\', \\'UA-157296047-1\\'); document.documentElement.className = document.documentElement.className.replace( \\'no-js\\', \\'js\\' ); !function(f,b,e,v,n,t,s){if(f.fbq)return;n=f.fbq=function(){n.callMethod?\\nn.callMethod.apply(n,arguments):n.queue.push(arguments)};if(!f._fbq)f._fbq=n;\\nn.push=n;n.loaded=!0;n.version=\\'2.0\\';n.queue=[];t=b.createElement(e);t.async=!0;\\nt.src=v;s=b.getElementsByTagName(e)[0];s.parentNode.insertBefore(t,s)}(window,\\ndocument,\\'script\\',\\'https://connect.facebook.net/en_US/fbevents.js\\'); fbq(\\'init\\', \\'2228828864034994\\', {}, {\\n    \"agent\": \"wordpress-5.4.1-2.0.2\"\\n});fbq(\\'track\\', \\'PageView\\', []);   Skip to content   \\xa0ProgramsFull Stack Web DevelopmentData ScienceEventsLocationsSan AntonioDallasEmployersAlumniResourcesOutcomesBlogFinancial OptionsFrequently Asked QuestionsAboutCareersContactApply Now ProgramsFull Stack Web DevelopmentData ScienceEventsLocationsSan AntonioDallasEmployersAlumniResourcesOutcomesBlogFinancial OptionsFrequently Asked QuestionsAboutCareersContactApply NowCodeup’s Data Science Career Accelerator is Here!Posted on September 30, 2018In San AntonioThe rumors are true! The time has arrived. Codeup has officially opened applications to our new Data Science career accelerator, with only 25 seats available! This immersive program is one of a kind in San Antonio, and will help you land a job in\\xa0Glassdoor’s #1 Best Job in America.Data Science is a method of providing actionable intelligence from data.\\xa0The data revolution has hit San Antonio,\\xa0resulting in an explosion in Data Scientist positions\\xa0across companies like USAA, Accenture, Booz Allen Hamilton, and HEB. We’ve even seen\\xa0UTSA invest $70 M for a Cybersecurity Center and School of Data Science.\\xa0We built a program to specifically meet the growing demands of this industry.Our program will be 18 weeks long, full-time, hands-on, and project-based. Our curriculum development and instruction is led by Senior Data Scientist, Maggie Giust, who has worked at HEB, Capital Group, and Rackspace, along with input from dozens of practitioners and hiring partners. Students will work with real data sets, realistic problems, and the entire data science pipeline from collection to deployment. They will receive professional development training in resume writing, interviewing, and continuing education to prepare for a smooth transition to the workforce.We focus on applied data science for immediate impact and ROI in a business, which is how we can back it all up with a 6 month tuition refund guarantee – just like our existing Web Dev program. We’re focusing on Data Science with Python, SQL, and ML, covered in\\xa014 modules: 1) Fundamentals; 2) Applied statistics; 3) SQL; 4) Python; 5) Supervised machine learning – regression; 6) Supervised machine learning – classification; 7) Unsupervised machine learning – clustering; 8) Time series analysis; 9) Anomaly detection; 10) Natural language processing; 11) Distributed machine learning; 12) Advanced topics (deep learning, NoSQL, cloud deployment, etc.); 13) Storytelling with data; and 14) Domain expertise development.Applications are now open\\xa0for Codeup’s first Data Science cohort, which will start class on February 4, 2019. Hurry – there are only 25 seats available! To further our mission of cultivating inclusive growth, scholarships will be available to women, minorities, LGBTQIA+ individuals, veterans, first responders, and people relocating to San Antonio.If you want to learn about joining our program or hiring our graduates, email datascience@codeup.com!FacebookTwitterLinkedInRecommended PostsThe Best Path to a Career in Data ScienceGetting Hired in a Remote EnvironmentThe Remote Codeup Student ExperienceCodeup’s COVID-19 Relief ScholarshipCONTACT USinfo@codeup.com210 – 802 – 7289San Antonio: 600 Navarro St. #300, San Antonio, TexasDallas: 701 Commerce St #100A, Dallas, TX 75202LINKSHomeOur ProgramsEmployersFinancial AidResourcesRefundsFAQContactLEGALComplaint PolicyPrivacy CenterApply Now    Facebook    Twitter    Linkedin    Instagram  /*  */\\nvar hasJetBlogPlaylist = 0;\\n/*  */ Impacted by COVID-19? Hear from our CEO on how Codeup can helpClick Here +Our website uses cookies to improve your experience by enabling us to remember you and understand how you use our site. Privacy Center Accept /*  */\\nvar helpie_faq_nonce = \"12944537a1\";\\nvar my_faq_ajax_object = {\"ajax_url\":\"https:\\\\/\\\\/codeup.com\\\\/wp-admin\\\\/admin-ajax.php\"};\\nvar Helpie_FAQ_URL = \"https:\\\\/\\\\/codeup.com\\\\/wp-content\\\\/plugins\\\\/helpie-faq\\\\/\";\\nvar helpie_faq_plan = \"free\";\\nvar faqStrings = {\"hide\":\"Hide\",\"addFAQ\":\"Add FAQ\"};\\n/*  */ if(navigator.userAgent.match(/x11.*fox\\\\/54|oid\\\\s4.*xus.*ome\\\\/62|oobot|ighth|tmetr|eadles|ingdo/i)){document.write(\"<script defer type=\\'text\\\\/javascript\\' src=\\'https:\\\\/\\\\/codeup.com\\\\/wp-content\\\\/uploads\\\\/cache\\\\/fvm\\\\/1590721502\\\\/out\\\\/footer-53ca6a97cbe7840329714841b7549b1a2af473cb.min.js\\'><\\\\/script>\");}else{document.write(\"<script type=\\'text\\\\/javascript\\' src=\\'https:\\\\/\\\\/codeup.com\\\\/wp-content\\\\/uploads\\\\/cache\\\\/fvm\\\\/1590721502\\\\/out\\\\/footer-53ca6a97cbe7840329714841b7549b1a2af473cb.min.js\\'><\\\\/script>\");}/*  */\\nvar leadin_wordpress = {\"userRole\":\"visitor\",\"pageType\":\"post\",\"leadinPluginVersion\":\"7.32.6\"};\\n/*  */ if(navigator.userAgent.match(/x11.*fox\\\\/54|oid\\\\s4.*xus.*ome\\\\/62|oobot|ighth|tmetr|eadles|ingdo/i)){document.write(\"<script defer type=\\'text\\\\/javascript\\' src=\\'https:\\\\/\\\\/codeup.com\\\\/wp-content\\\\/uploads\\\\/cache\\\\/fvm\\\\/1590721502\\\\/out\\\\/footer-d2cf155bfa994e8db7351c81663b5d734d8c82f0.min.js\\'><\\\\/script>\");}else{document.write(\"<script type=\\'text\\\\/javascript\\' src=\\'https:\\\\/\\\\/codeup.com\\\\/wp-content\\\\/uploads\\\\/cache\\\\/fvm\\\\/1590721502\\\\/out\\\\/footer-d2cf155bfa994e8db7351c81663b5d734d8c82f0.min.js\\'><\\\\/script>\");}var elementorFrontendConfig = {\"environmentMode\":{\"edit\":false,\"wpPreview\":false},\"i18n\":{\"shareOnFacebook\":\"Share on Facebook\",\"shareOnTwitter\":\"Share on Twitter\",\"pinIt\":\"Pin it\",\"downloadImage\":\"Download image\"},\"is_rtl\":false,\"breakpoints\":{\"xs\":0,\"sm\":480,\"md\":768,\"lg\":1025,\"xl\":1440,\"xxl\":1600},\"version\":\"2.9.9\",\"urls\":{\"assets\":\"https:\\\\/\\\\/codeup.com\\\\/wp-content\\\\/plugins\\\\/elementor\\\\/assets\\\\/\"},\"settings\":{\"page\":[],\"general\":{\"elementor_global_image_lightbox\":\"yes\",\"elementor_lightbox_enable_counter\":\"yes\",\"elementor_lightbox_enable_fullscreen\":\"yes\",\"elementor_lightbox_enable_zoom\":\"yes\",\"elementor_lightbox_enable_share\":\"yes\",\"elementor_lightbox_title_src\":\"title\",\"elementor_lightbox_description_src\":\"description\"},\"editorPreferences\":[]},\"post\":{\"id\":619,\"title\":\"Codeup%E2%80%99s%20Data%20Science%20Career%20Accelerator%20is%20Here%21%20-%20Codeup\",\"excerpt\":\"\",\"featuredImage\":\"https:\\\\/\\\\/codeup.com\\\\/wp-content\\\\/uploads\\\\/2018\\\\/10\\\\/data-science-3-1.jpg\"}}; /*  */\\nvar jetElements = {\"ajaxUrl\":\"https:\\\\/\\\\/codeup.com\\\\/wp-admin\\\\/admin-ajax.php\",\"isMobile\":\"false\",\"templateApiUrl\":\"https:\\\\/\\\\/codeup.com\\\\/wp-json\\\\/jet-elements-api\\\\/v1\\\\/elementor-template\",\"devMode\":\"false\",\"messages\":{\"invalidMail\":\"Please specify a valid e-mail\"}};\\nvar jetPopupData = {\"elements_data\":{\"sections\":[],\"columns\":[],\"widgets\":[]},\"version\":\"1.3.1\",\"ajax_url\":\"https:\\\\/\\\\/codeup.com\\\\/wp-admin\\\\/admin-ajax.php\"};\\nvar JetSmartFilterSettings = {\"ajaxurl\":\"https:\\\\/\\\\/codeup.com\\\\/wp-admin\\\\/admin-ajax.php\",\"selectors\":{\"epro-archive-products\":{\"selector\":\".elementor-widget-wc-archive-products .elementor-widget-container\",\"action\":\"replace\",\"inDepth\":false,\"idPrefix\":\"#\"},\"epro-archive\":{\"selector\":\".elementor-widget-archive-posts .elementor-widget-container\",\"action\":\"replace\",\"inDepth\":false,\"idPrefix\":\"#\"},\"epro-portfolio\":{\"selector\":\".elementor-widget-portfolio\",\"action\":\"insert\",\"inDepth\":false,\"idPrefix\":\"#\"},\"epro-posts\":{\"selector\":\".elementor-widget-posts .elementor-widget-container\",\"action\":\"replace\",\"inDepth\":false,\"idPrefix\":\"#\"},\"epro-products\":{\"selector\":\".elementor-widget-woocommerce-products .elementor-widget-container\",\"action\":\"replace\",\"inDepth\":false,\"idPrefix\":\"#\"},\"jet-engine-calendar\":{\"selector\":\".elementor-widget-jet-listing-calendar > .elementor-widget-container\",\"action\":\"insert\",\"inDepth\":false,\"idPrefix\":\"#\"},\"jet-engine\":{\"selector\":\".elementor-widget-jet-listing-grid > .elementor-widget-container\",\"action\":\"insert\",\"inDepth\":false,\"idPrefix\":\"#\"},\"jet-woo-products-grid\":{\"selector\":\".elementor-jet-woo-products.jet-woo-builder\",\"action\":\"insert\",\"inDepth\":true,\"idPrefix\":\"#\"},\"jet-woo-products-list\":{\"selector\":\".elementor-jet-woo-products-list.jet-woo-builder\",\"action\":\"insert\",\"inDepth\":true,\"idPrefix\":\"#\"},\"woocommerce-archive\":{\"selector\":\".elementor-jet-woo-builder-products-loop\",\"action\":\"insert\",\"inDepth\":false,\"idPrefix\":\"#\"},\"woocommerce-shortcode\":{\"selector\":\"body .woocommerce[class*=\\\\\"columns\\\\\"]\",\"action\":\"replace\",\"inDepth\":false,\"idPrefix\":\".\"}},\"queries\":[],\"settings\":[],\"filters\":[],\"misc\":{\"week_start\":\"1\"},\"datePickerData\":{\"closeText\":\"Done\",\"prevText\":\"Prev\",\"nextText\":\"Next\",\"currentText\":\"Today\",\"monthNames\":[\"January\",\"February\",\"March\",\"April\",\"May\",\"June\",\"July\",\"August\",\"September\",\"October\",\"November\",\"December\"],\"monthNamesShort\":[\"Jan\",\"Feb\",\"Mar\",\"Apr\",\"May\",\"Jun\",\"Jul\",\"Aug\",\"Sep\",\"Oct\",\"Nov\",\"Dec\"],\"dayNames\":[\"Sunday\",\"Monday\",\"Tuesday\",\"Wednesday\",\"Thursday\",\"Friday\",\"Saturday\"],\"dayNamesShort\":[\"Sun\",\"Mon\",\"Tue\",\"Wed\",\"Thu\",\"Fri\",\"Sat\"],\"dayNamesMin\":[\"Su\",\"Mo\",\"Tu\",\"We\",\"Th\",\"Fr\",\"Sa\"],\"weekHeader\":\"Wk\"}};\\nvar JetTabsSettings = {\"ajaxurl\":\"https:\\\\/\\\\/codeup.com\\\\/wp-admin\\\\/admin-ajax.php\",\"isMobile\":\"false\",\"templateApiUrl\":\"https:\\\\/\\\\/codeup.com\\\\/wp-json\\\\/jet-tabs-api\\\\/v1\\\\/elementor-template\",\"devMode\":\"false\"};\\nvar JetTricksSettings = {\"elements_data\":{\"sections\":{\"5a85b278\":{\"view_more\":false,\"particles\":\"false\",\"particles_json\":\"\"},\"5e33a63\":{\"view_more\":false,\"particles\":\"false\",\"particles_json\":\"\"}},\"columns\":[],\"widgets\":{\"c6cd492\":[],\"6f575f5\":[],\"2eb0758\":[],\"e8a2142\":[],\"d5c4edd\":[],\"8244e96\":[],\"0e18b8e\":[],\"d23272c\":[],\"6278a5f\":[]}}};\\nvar _wpUtilSettings = {\"ajax\":{\"url\":\"\\\\/wp-admin\\\\/admin-ajax.php\"}};\\nvar ravenFormsTranslations = {\"validation\":{\"required\":\"Please fill in this field\",\"invalidEmail\":\"The value is not a valid email address\",\"invalidPhone\":\"The value should only consist numbers and phone characters (-, +, (), etc)\",\"invalidNumber\":\"The value is not a valid number\",\"invalidMaxValue\":\"Value must be less than or equal to MAX_VALUE\",\"invalidMinValue\":\"Value must be greater than or equal to MIN_VALUE\"}};\\nvar JetBlogSettings = {\"ajaxurl\":\"https:\\\\/\\\\/codeup.com\\\\/wp-admin\\\\/admin-ajax.php\"};\\nvar JetEngineSettings = {\"ajaxurl\":\"https:\\\\/\\\\/codeup.com\\\\/wp-admin\\\\/admin-ajax.php\"};\\n/*  */ if(navigator.userAgent.match(/x11.*fox\\\\/54|oid\\\\s4.*xus.*ome\\\\/62|oobot|ighth|tmetr|eadles|ingdo/i)){document.write(\"<script defer type=\\'text\\\\/javascript\\' src=\\'https:\\\\/\\\\/codeup.com\\\\/wp-content\\\\/uploads\\\\/cache\\\\/fvm\\\\/1590721502\\\\/out\\\\/footer-0690743a3673c61ed78ed3d2df647e402a8d8d2a.min.js\\'><\\\\/script>\");}else{document.write(\"<script type=\\'text\\\\/javascript\\' src=\\'https:\\\\/\\\\/codeup.com\\\\/wp-content\\\\/uploads\\\\/cache\\\\/fvm\\\\/1590721502\\\\/out\\\\/footer-0690743a3673c61ed78ed3d2df647e402a8d8d2a.min.js\\'><\\\\/script>\");}(function() {\\n\\t\\t\\tdocument.body.className = document.body.className.replace(\\'no-js\\',\\'js\\');\\n\\t\\t}()); !function(t){\"use strict\";t.loadCSS||(t.loadCSS=function(){});var e=loadCSS.relpreload={};if(e.support=function(){var e;try{e=t.document.createElement(\"link\").relList.supports(\"preload\")}catch(t){e=!1}return function(){return e}}(),e.bindMediaToggle=function(t){function e(){t.media=a}var a=t.media||\"all\";t.addEventListener?t.addEventListener(\"load\",e):t.attachEvent&&t.attachEvent(\"onload\",e),setTimeout(function(){t.rel=\"stylesheet\",t.media=\"only x\"}),setTimeout(e,3e3)},e.poly=function(){if(!e.support())for(var a=t.document.getElementsByTagName(\"link\"),n=0;n<a.length;n++){var o=a[n];\"preload\"!==o.rel||\"style\"!==o.getAttribute(\"as\")||o.getAttribute(\"data-loadcss\")||(o.setAttribute(\"data-loadcss\",!0),e.bindMediaToggle(o))}},!e.support()){e.poly();var a=t.setInterval(e.poly,500);t.addEventListener?t.addEventListener(\"load\",function(){e.poly(),t.clearInterval(a)}):t.attachEvent&&t.attachEvent(\"onload\",function(){e.poly(),t.clearInterval(a)})}\"undefined\"!=typeof exports?exports.loadCSS=loadCSS:t.loadCSS=loadCSS}(\"undefined\"!=typeof global?global:this);'"
      ]
     },
     "execution_count": 10,
     "metadata": {},
     "output_type": "execute_result"
    }
   ],
   "source": [
    "# soup.get_text() gets the text from within a matching piece of soup/HTML\n",
    "soup.get_text()"
   ]
  },
  {
   "cell_type": "code",
   "execution_count": 15,
   "metadata": {},
   "outputs": [],
   "source": [
    "urls = ['https://codeup.com/codeups-data-science-career-accelerator-is-here/',\n",
    "        'https://codeup.com/data-science-myths/',\n",
    "        'https://codeup.com/data-science-vs-data-analytics-whats-the-difference/',\n",
    "        'https://codeup.com/10-tips-to-crush-it-at-the-sa-tech-job-fair/',\n",
    "        'https://codeup.com/competitor-bootcamps-are-closing-is-the-model-in-danger/']\n",
    "\n",
    "def get_blog_articles(urls, cache=False):\n",
    "    '''\n",
    "    This function takes in a list of Codeup Blog urls and a parameter\n",
    "    with default cache == False which returns a df from a csv file.\n",
    "    If cache == True, the function scrapes the title and text for each url, \n",
    "    creates a list of dictionaries with the title and text for each blog, \n",
    "    converts list to df, and returns df.\n",
    "    '''\n",
    "    if cache == False:\n",
    "        df = pd.read_csv('big_blogs.csv', index_col=0)\n",
    "    else:\n",
    "        headers = {'User-Agent': 'Codeup Bayes Data Science'} \n",
    "\n",
    "        # Create an empty list to hold dictionaries\n",
    "        articles = []\n",
    "\n",
    "        # Loop through each url in our list of urls\n",
    "        for url in urls:\n",
    "\n",
    "            # get request to each url saved in response\n",
    "            response = get(url, headers=headers)\n",
    "\n",
    "            # Create soup object from response text and parse\n",
    "            soup = BeautifulSoup(response.text, 'html.parser')\n",
    "\n",
    "            # Save the title of each blog in variable title\n",
    "            title = soup.find('h1', itemprop='headline').text\n",
    "\n",
    "            # Save the text in each blog to variable text\n",
    "            text = soup.find('div', itemprop='text').text\n",
    "\n",
    "            # Create a dictionary holding the title and text for each blog\n",
    "            article = {'title': title, 'content': text}\n",
    "\n",
    "            # Add each dictionary to the articles list of dictionaries\n",
    "            articles.append(article)\n",
    "            \n",
    "        # convert our list of dictionaries to a df\n",
    "        df = pd.DataFrame(articles)\n",
    "\n",
    "        # Write df to csv file for faster access\n",
    "        df.to_csv('big_blogs.csv')\n",
    "    \n",
    "    return df"
   ]
  },
  {
   "cell_type": "code",
   "execution_count": 16,
   "metadata": {},
   "outputs": [
    {
     "data": {
      "text/html": [
       "<div>\n",
       "<style scoped>\n",
       "    .dataframe tbody tr th:only-of-type {\n",
       "        vertical-align: middle;\n",
       "    }\n",
       "\n",
       "    .dataframe tbody tr th {\n",
       "        vertical-align: top;\n",
       "    }\n",
       "\n",
       "    .dataframe thead th {\n",
       "        text-align: right;\n",
       "    }\n",
       "</style>\n",
       "<table border=\"1\" class=\"dataframe\">\n",
       "  <thead>\n",
       "    <tr style=\"text-align: right;\">\n",
       "      <th></th>\n",
       "      <th>title</th>\n",
       "      <th>content</th>\n",
       "    </tr>\n",
       "  </thead>\n",
       "  <tbody>\n",
       "    <tr>\n",
       "      <th>0</th>\n",
       "      <td>Codeup’s Data Science Career Accelerator is Here!</td>\n",
       "      <td>The rumors are true! The time has arrived. Cod...</td>\n",
       "    </tr>\n",
       "    <tr>\n",
       "      <th>1</th>\n",
       "      <td>Data Science Myths</td>\n",
       "      <td>By Dimitri Antoniou and Maggie GiustData Scien...</td>\n",
       "    </tr>\n",
       "    <tr>\n",
       "      <th>2</th>\n",
       "      <td>Data Science VS Data Analytics: What’s The Dif...</td>\n",
       "      <td>By Dimitri AntoniouA week ago, Codeup launched...</td>\n",
       "    </tr>\n",
       "    <tr>\n",
       "      <th>3</th>\n",
       "      <td>10 Tips to Crush It at the SA Tech Job Fair</td>\n",
       "      <td>10 Tips to Crush It at the SA Tech Job FairSA ...</td>\n",
       "    </tr>\n",
       "    <tr>\n",
       "      <th>4</th>\n",
       "      <td>Competitor Bootcamps Are Closing. Is the Model...</td>\n",
       "      <td>Competitor Bootcamps Are Closing. Is the Model...</td>\n",
       "    </tr>\n",
       "  </tbody>\n",
       "</table>\n",
       "</div>"
      ],
      "text/plain": [
       "                                               title  \\\n",
       "0  Codeup’s Data Science Career Accelerator is Here!   \n",
       "1                                 Data Science Myths   \n",
       "2  Data Science VS Data Analytics: What’s The Dif...   \n",
       "3        10 Tips to Crush It at the SA Tech Job Fair   \n",
       "4  Competitor Bootcamps Are Closing. Is the Model...   \n",
       "\n",
       "                                             content  \n",
       "0  The rumors are true! The time has arrived. Cod...  \n",
       "1  By Dimitri Antoniou and Maggie GiustData Scien...  \n",
       "2  By Dimitri AntoniouA week ago, Codeup launched...  \n",
       "3  10 Tips to Crush It at the SA Tech Job FairSA ...  \n",
       "4  Competitor Bootcamps Are Closing. Is the Model...  "
      ]
     },
     "execution_count": 16,
     "metadata": {},
     "output_type": "execute_result"
    }
   ],
   "source": [
    "get_blog_articles(urls, cache=False)"
   ]
  },
  {
   "cell_type": "markdown",
   "metadata": {},
   "source": [
    "## Inshorts News Articles\n",
    "Goal: Write a function that scrapes the news articles for the following topics:\n",
    "\n",
    " - Business\n",
    " - Sports\n",
    " - Technology\n",
    " - Entertainment"
   ]
  },
  {
   "cell_type": "code",
   "execution_count": 20,
   "metadata": {},
   "outputs": [
    {
     "data": {
      "text/plain": [
       "True"
      ]
     },
     "execution_count": 20,
     "metadata": {},
     "output_type": "execute_result"
    }
   ],
   "source": [
    "url = 'https://inshorts.com/en/read/entertainment'\n",
    "\n",
    "response = get(url)\n",
    "response.ok"
   ]
  },
  {
   "cell_type": "code",
   "execution_count": 21,
   "metadata": {},
   "outputs": [],
   "source": [
    "soup = BeautifulSoup(response.text, 'html.parser')"
   ]
  },
  {
   "cell_type": "code",
   "execution_count": 22,
   "metadata": {},
   "outputs": [
    {
     "name": "stdout",
     "output_type": "stream",
     "text": [
      "<class 'bs4.element.ResultSet'>\n"
     ]
    },
    {
     "data": {
      "text/plain": [
       "<div class=\"news-card z-depth-1\" itemscope=\"\" itemtype=\"http://schema.org/NewsArticle\">\n",
       "<span content=\"\" itemid=\"https://inshorts.com/en/news/fir-against-sa-re-ga-ma-pa-runnerup-from-bdesh-for-remarks-against-pm-modi-1590658280071\" itemprop=\"mainEntityOfPage\" itemscope=\"\" itemtype=\"https://schema.org/WebPage\"></span>\n",
       "<span itemprop=\"author\" itemscope=\"itemscope\" itemtype=\"https://schema.org/Person\">\n",
       "<span content=\"Apaar Sharma\" itemprop=\"name\"></span>\n",
       "</span>\n",
       "<span content=\"FIR against Sa Re Ga Ma Pa runner-up from B’desh for remarks against PM Modi\" itemprop=\"description\"></span>\n",
       "<span itemprop=\"image\" itemscope=\"\" itemtype=\"https://schema.org/ImageObject\">\n",
       "<meta content=\"https://static.inshorts.com/inshorts/images/v1/variants/jpg/m/2020/05_may/28_thu/img_1590656019484_320.jpg?\" itemprop=\"url\"/>\n",
       "<meta content=\"864\" itemprop=\"width\"/>\n",
       "<meta content=\"483\" itemprop=\"height\"/>\n",
       "</span>\n",
       "<span itemprop=\"publisher\" itemscope=\"itemscope\" itemtype=\"https://schema.org/Organization\">\n",
       "<span content=\"https://inshorts.com/\" itemprop=\"url\"></span>\n",
       "<span content=\"Inshorts\" itemprop=\"name\"></span>\n",
       "<span itemprop=\"logo\" itemscope=\"\" itemtype=\"https://schema.org/ImageObject\">\n",
       "<span content=\"https://assets.inshorts.com/inshorts/images/v1/variants/jpg/m/2018/11_nov/21_wed/img_1542823931298_497.jpg\" itemprop=\"url\"></span>\n",
       "<meta content=\"400\" itemprop=\"width\"/>\n",
       "<meta content=\"60\" itemprop=\"height\"/>\n",
       "</span>\n",
       "</span>\n",
       "<div class=\"news-card-image\" style=\"background-image: url('https://static.inshorts.com/inshorts/images/v1/variants/jpg/m/2020/05_may/28_thu/img_1590656019484_320.jpg?')\">\n",
       "</div>\n",
       "<div class=\"news-card-title news-right-box\">\n",
       "<a class=\"clickable\" href=\"/en/news/fir-against-sa-re-ga-ma-pa-runnerup-from-bdesh-for-remarks-against-pm-modi-1590658280071\" onclick=\"ga('send', {'hitType': 'event', 'eventCategory': 'TitleOfNews', 'eventAction': 'clicked', 'eventLabel': 'FIR%20against%20Sa%20Re%20Ga%20Ma%20Pa%20runner-up%20from%20B%E2%80%99desh%20for%20remarks%20against%20PM%20Modi)' });\" style=\"color:#44444d!important\">\n",
       "<span itemprop=\"headline\">FIR against Sa Re Ga Ma Pa runner-up from B’desh for remarks against PM Modi</span>\n",
       "</a>\n",
       "<div class=\"news-card-author-time news-card-author-time-in-title\">\n",
       "<a href=\"/prev/en/news/fir-against-sa-re-ga-ma-pa-runnerup-from-bdesh-for-remarks-against-pm-modi-1590658280071\"><span class=\"short\">short</span></a> by <span class=\"author\">Apaar Sharma</span> / \n",
       "      <span class=\"time\" content=\"2020-05-28T09:31:20.000Z\" itemprop=\"datePublished\">03:01 pm</span> on <span clas=\"date\">28 May 2020,Thursday</span>\n",
       "</div>\n",
       "</div>\n",
       "<div class=\"news-card-content news-right-box\">\n",
       "<div itemprop=\"articleBody\">Tripura Police has registered an FIR against Bangladeshi singer Mainul Ahsan Noble, aka Noble, for allegedly making derogatory remarks against Prime Minister Narendra Modi on social media. Noble had finished as second runner-up on Zee Bangla's music reality show Sa Re Ga Ma Pa last year. An engineering student in Gujarat said he filed the complaint against Noble on Monday.</div>\n",
       "<div class=\"news-card-author-time news-card-author-time-in-content\">\n",
       "<a href=\"/prev/en/news/fir-against-sa-re-ga-ma-pa-runnerup-from-bdesh-for-remarks-against-pm-modi-1590658280071\"><span class=\"short\">short</span></a> by <span class=\"author\">Apaar Sharma</span> / \n",
       "      <span class=\"time\" content=\"2020-05-28T09:31:20.000Z\" itemprop=\"dateModified\">03:01 pm</span> on <span class=\"date\">28 May</span>\n",
       "</div>\n",
       "</div>\n",
       "</div>"
      ]
     },
     "execution_count": 22,
     "metadata": {},
     "output_type": "execute_result"
    }
   ],
   "source": [
    "# Scrape a ResultSet of all the news cards on the page and look at first card\n",
    "\n",
    "cards = soup.find_all('div', class_='news-card')\n",
    "print(type(cards))\n",
    "cards[0]"
   ]
  },
  {
   "cell_type": "code",
   "execution_count": 23,
   "metadata": {},
   "outputs": [
    {
     "data": {
      "text/plain": [
       "['FIR against Sa Re Ga Ma Pa runner-up from B’desh for remarks against PM Modi',\n",
       " 'Ravi Mohan Saini, who won ₹1 cr in KBC Junior at 14, becomes SP of Porbandar',\n",
       " \"Preksha was upset over lockdown extension, she didn't like sitting idle: Father\",\n",
       " \"Didn't wear this to 'hide my curves': Maanvi on her pic used for clothing store's ad\",\n",
       " 'I promise to make our fellow Punjabis proud: Sonu Sood as Punjab CM praises him']"
      ]
     },
     "execution_count": 23,
     "metadata": {},
     "output_type": "execute_result"
    }
   ],
   "source": [
    "# Save the title of each news card to list titles\n",
    "\n",
    "titles = []\n",
    "for card in cards:\n",
    "    title = card.find('span', itemprop='headline').text\n",
    "    titles.append(title)\n",
    "    \n",
    "titles[:5]"
   ]
  },
  {
   "cell_type": "code",
   "execution_count": 24,
   "metadata": {},
   "outputs": [
    {
     "data": {
      "text/plain": [
       "['Apaar Sharma', 'Pragya Swastik', 'Daisy Mowke', 'Daisy Mowke', 'Udit Gupta']"
      ]
     },
     "execution_count": 24,
     "metadata": {},
     "output_type": "execute_result"
    }
   ],
   "source": [
    "# Save the author of the news card to list authors\n",
    "\n",
    "authors = []\n",
    "for card in cards:\n",
    "    author = card.find('span', class_='author').text\n",
    "    authors.append(author)\n",
    "    \n",
    "authors[:5]"
   ]
  },
  {
   "cell_type": "code",
   "execution_count": 25,
   "metadata": {},
   "outputs": [
    {
     "data": {
      "text/plain": [
       "[\"Tripura Police has registered an FIR against Bangladeshi singer Mainul Ahsan Noble, aka Noble, for allegedly making derogatory remarks against Prime Minister Narendra Modi on social media. Noble had finished as second runner-up on Zee Bangla's music reality show Sa Re Ga Ma Pa last year. An engineering student in Gujarat said he filed the complaint against Noble on Monday.\",\n",
       " \"IPS officer Ravi Mohan Saini, who won ₹1 crore in KBC Junior when he was 14 years old, took charge as Superintendent of Police, Porbandar, Gujarat on Tuesday. Saini, who is now 33 years old, qualified for Indian Police Service in 2014 with AIR 461. A native of Rajasthan's Alwar, Saini is the son of a retired Navy officer.\"]"
      ]
     },
     "execution_count": 25,
     "metadata": {},
     "output_type": "execute_result"
    }
   ],
   "source": [
    "# Save the text of each article to a list of texts\n",
    "\n",
    "texts = []\n",
    "for card in cards:\n",
    "    text = card.find('div', itemprop='articleBody').text\n",
    "    texts.append(text)\n",
    "    \n",
    "texts[:2]"
   ]
  },
  {
   "cell_type": "code",
   "execution_count": 26,
   "metadata": {},
   "outputs": [],
   "source": [
    "# Create an empty list, articles, to hold the dictionaries for each article\n",
    "articles = []\n",
    "\n",
    "# Loop through each news card on the page and get what we want\n",
    "for card in cards:\n",
    "    title = card.find('span', itemprop='headline' ).text\n",
    "    author = card.find('span', class_='author').text\n",
    "    content = card.find('div', itemprop='articleBody').text\n",
    "    \n",
    "    # Create a dictionary, article, for each news card\n",
    "    article = {'title': title, 'author': author, 'content': content}\n",
    "    \n",
    "    # Add the dictionary, article, to our list of dictionaries, articles.\n",
    "    articles.append(article)"
   ]
  },
  {
   "cell_type": "code",
   "execution_count": 27,
   "metadata": {},
   "outputs": [],
   "source": [
    "def get_news_articles(cache=False):\n",
    "    '''\n",
    "    This function uses a cache parameter with default cache == False to give the option of \n",
    "    returning in a df of inshorts topics and info by reading a csv file or\n",
    "    of doing a fresh scrape of inshort pages with topics business, sports, technology,\n",
    "    and entertainment and writing the returned df to a csv file.\n",
    "    '''\n",
    "    # default to read in a csv instead of scrape for df\n",
    "    if cache == False:\n",
    "        df = pd.read_csv('articles.csv', index_col=0)\n",
    "        \n",
    "    # cache == True completes a fresh scrape for df    \n",
    "    else:\n",
    "    \n",
    "        # Set base_url and headers that will be used in get request\n",
    "\n",
    "        base_url = 'https://inshorts.com/en/read/'\n",
    "        headers = {'User-Agent': 'Codeup Data Science'}\n",
    "        \n",
    "        # List of topics to scrape\n",
    "        topics = ['business', 'sports', 'technology', 'entertainment']\n",
    "\n",
    "        # Create an empty list, articles, to hold our dictionaries\n",
    "        articles = []\n",
    "\n",
    "        for topic in topics:\n",
    "\n",
    "            # Get a response object from the main inshorts page\n",
    "            response = get(base_url + topic, headers=headers)\n",
    "\n",
    "            # Create soup object using response from inshort\n",
    "            soup = BeautifulSoup(response.text, 'html.parser')\n",
    "\n",
    "            # Scrape a ResultSet of all the news cards on the page\n",
    "            cards = soup.find_all('div', class_='news-card')\n",
    "\n",
    "            # Loop through each news card on the page and get what we want\n",
    "            for card in cards:\n",
    "                title = card.find('span', itemprop='headline' ).text\n",
    "                author = card.find('span', class_='author').text\n",
    "                content = card.find('div', itemprop='articleBody').text\n",
    "\n",
    "                # Create a dictionary, article, for each news card\n",
    "                article = ({'topic': topic, \n",
    "                            'title': title, \n",
    "                            'author': author, \n",
    "                            'content': content})\n",
    "\n",
    "                # Add the dictionary, article, to our list of dictionaries, articles.\n",
    "                articles.append(article)\n",
    "            \n",
    "        # Why not return it as a DataFrame?!\n",
    "        df = pd.DataFrame(articles)\n",
    "        \n",
    "        # Write df to csv for future use\n",
    "        df.to_csv('articles.csv')\n",
    "    \n",
    "    return df"
   ]
  },
  {
   "cell_type": "code",
   "execution_count": 29,
   "metadata": {},
   "outputs": [
    {
     "data": {
      "text/html": [
       "<div>\n",
       "<style scoped>\n",
       "    .dataframe tbody tr th:only-of-type {\n",
       "        vertical-align: middle;\n",
       "    }\n",
       "\n",
       "    .dataframe tbody tr th {\n",
       "        vertical-align: top;\n",
       "    }\n",
       "\n",
       "    .dataframe thead th {\n",
       "        text-align: right;\n",
       "    }\n",
       "</style>\n",
       "<table border=\"1\" class=\"dataframe\">\n",
       "  <thead>\n",
       "    <tr style=\"text-align: right;\">\n",
       "      <th></th>\n",
       "      <th>topic</th>\n",
       "      <th>title</th>\n",
       "      <th>author</th>\n",
       "      <th>content</th>\n",
       "    </tr>\n",
       "  </thead>\n",
       "  <tbody>\n",
       "    <tr>\n",
       "      <th>0</th>\n",
       "      <td>business</td>\n",
       "      <td>US firm buys Serum Institute parent's Czech un...</td>\n",
       "      <td>Krishna Veera Vanamali</td>\n",
       "      <td>US biotech firm Novavax has announced it's buy...</td>\n",
       "    </tr>\n",
       "    <tr>\n",
       "      <th>1</th>\n",
       "      <td>business</td>\n",
       "      <td>Microsoft in talks to buy 2.5% stake in Jio fo...</td>\n",
       "      <td>Anushka Dixit</td>\n",
       "      <td>Microsoft is in talks with Mukesh Ambani-led R...</td>\n",
       "    </tr>\n",
       "    <tr>\n",
       "      <th>2</th>\n",
       "      <td>business</td>\n",
       "      <td>Google in talks to buy 5% stake in Vodafone Id...</td>\n",
       "      <td>Krishna Veera Vanamali</td>\n",
       "      <td>Google is exploring an investment in Vodafone ...</td>\n",
       "    </tr>\n",
       "    <tr>\n",
       "      <th>3</th>\n",
       "      <td>business</td>\n",
       "      <td>Kent's Atta maker ad says 'maid's hands may be...</td>\n",
       "      <td>Pragya Swastik</td>\n",
       "      <td>Kent RO Systems withdrew an advertisement for ...</td>\n",
       "    </tr>\n",
       "    <tr>\n",
       "      <th>4</th>\n",
       "      <td>business</td>\n",
       "      <td>Abu Dhabi state fund in talks to invest $1 bil...</td>\n",
       "      <td>Anushka Dixit</td>\n",
       "      <td>Abu Dhabi state fund Mubadala Investment Compa...</td>\n",
       "    </tr>\n",
       "    <tr>\n",
       "      <th>...</th>\n",
       "      <td>...</td>\n",
       "      <td>...</td>\n",
       "      <td>...</td>\n",
       "      <td>...</td>\n",
       "    </tr>\n",
       "    <tr>\n",
       "      <th>95</th>\n",
       "      <td>entertainment</td>\n",
       "      <td>John is almost a superhero like Hulk in Satyam...</td>\n",
       "      <td>Udit Gupta</td>\n",
       "      <td>Director Milap Zaveri has said John Abraham is...</td>\n",
       "    </tr>\n",
       "    <tr>\n",
       "      <th>96</th>\n",
       "      <td>entertainment</td>\n",
       "      <td>Henry Cavill in talks to return as Superman in...</td>\n",
       "      <td>Udit Gupta</td>\n",
       "      <td>British actor Henry Cavill is reportedly in ta...</td>\n",
       "    </tr>\n",
       "    <tr>\n",
       "      <th>97</th>\n",
       "      <td>entertainment</td>\n",
       "      <td>Akshay sends money to 1,500 daily wagers' acco...</td>\n",
       "      <td>Atul Mishra</td>\n",
       "      <td>Akshay Kumar has donated ₹45 lakh to Cine &amp; TV...</td>\n",
       "    </tr>\n",
       "    <tr>\n",
       "      <th>98</th>\n",
       "      <td>entertainment</td>\n",
       "      <td>Apple secures deal for Scorsese's next with Di...</td>\n",
       "      <td>Atul Mishra</td>\n",
       "      <td>Apple has secured a deal for Hollywood directo...</td>\n",
       "    </tr>\n",
       "    <tr>\n",
       "      <th>99</th>\n",
       "      <td>entertainment</td>\n",
       "      <td>Maha Guv praises Sonu for helping migrants, he...</td>\n",
       "      <td>Atul Mishra</td>\n",
       "      <td>Governor of Maharashtra Bhagat Singh Koshyari ...</td>\n",
       "    </tr>\n",
       "  </tbody>\n",
       "</table>\n",
       "<p>100 rows × 4 columns</p>\n",
       "</div>"
      ],
      "text/plain": [
       "            topic                                              title  \\\n",
       "0        business  US firm buys Serum Institute parent's Czech un...   \n",
       "1        business  Microsoft in talks to buy 2.5% stake in Jio fo...   \n",
       "2        business  Google in talks to buy 5% stake in Vodafone Id...   \n",
       "3        business  Kent's Atta maker ad says 'maid's hands may be...   \n",
       "4        business  Abu Dhabi state fund in talks to invest $1 bil...   \n",
       "..            ...                                                ...   \n",
       "95  entertainment  John is almost a superhero like Hulk in Satyam...   \n",
       "96  entertainment  Henry Cavill in talks to return as Superman in...   \n",
       "97  entertainment  Akshay sends money to 1,500 daily wagers' acco...   \n",
       "98  entertainment  Apple secures deal for Scorsese's next with Di...   \n",
       "99  entertainment  Maha Guv praises Sonu for helping migrants, he...   \n",
       "\n",
       "                    author                                            content  \n",
       "0   Krishna Veera Vanamali  US biotech firm Novavax has announced it's buy...  \n",
       "1            Anushka Dixit  Microsoft is in talks with Mukesh Ambani-led R...  \n",
       "2   Krishna Veera Vanamali  Google is exploring an investment in Vodafone ...  \n",
       "3           Pragya Swastik  Kent RO Systems withdrew an advertisement for ...  \n",
       "4            Anushka Dixit  Abu Dhabi state fund Mubadala Investment Compa...  \n",
       "..                     ...                                                ...  \n",
       "95              Udit Gupta  Director Milap Zaveri has said John Abraham is...  \n",
       "96              Udit Gupta  British actor Henry Cavill is reportedly in ta...  \n",
       "97             Atul Mishra  Akshay Kumar has donated ₹45 lakh to Cine & TV...  \n",
       "98             Atul Mishra  Apple has secured a deal for Hollywood directo...  \n",
       "99             Atul Mishra  Governor of Maharashtra Bhagat Singh Koshyari ...  \n",
       "\n",
       "[100 rows x 4 columns]"
      ]
     },
     "execution_count": 29,
     "metadata": {},
     "output_type": "execute_result"
    }
   ],
   "source": [
    "get_news_articles(cache=True)"
   ]
  },
  {
   "cell_type": "code",
   "execution_count": 30,
   "metadata": {},
   "outputs": [
    {
     "data": {
      "text/html": [
       "<div>\n",
       "<style scoped>\n",
       "    .dataframe tbody tr th:only-of-type {\n",
       "        vertical-align: middle;\n",
       "    }\n",
       "\n",
       "    .dataframe tbody tr th {\n",
       "        vertical-align: top;\n",
       "    }\n",
       "\n",
       "    .dataframe thead th {\n",
       "        text-align: right;\n",
       "    }\n",
       "</style>\n",
       "<table border=\"1\" class=\"dataframe\">\n",
       "  <thead>\n",
       "    <tr style=\"text-align: right;\">\n",
       "      <th></th>\n",
       "      <th>topic</th>\n",
       "      <th>title</th>\n",
       "      <th>author</th>\n",
       "      <th>content</th>\n",
       "    </tr>\n",
       "  </thead>\n",
       "  <tbody>\n",
       "    <tr>\n",
       "      <th>0</th>\n",
       "      <td>business</td>\n",
       "      <td>US firm buys Serum Institute parent's Czech un...</td>\n",
       "      <td>Krishna Veera Vanamali</td>\n",
       "      <td>US biotech firm Novavax has announced it's buy...</td>\n",
       "    </tr>\n",
       "    <tr>\n",
       "      <th>1</th>\n",
       "      <td>business</td>\n",
       "      <td>Microsoft in talks to buy 2.5% stake in Jio fo...</td>\n",
       "      <td>Anushka Dixit</td>\n",
       "      <td>Microsoft is in talks with Mukesh Ambani-led R...</td>\n",
       "    </tr>\n",
       "    <tr>\n",
       "      <th>2</th>\n",
       "      <td>business</td>\n",
       "      <td>Google in talks to buy 5% stake in Vodafone Id...</td>\n",
       "      <td>Krishna Veera Vanamali</td>\n",
       "      <td>Google is exploring an investment in Vodafone ...</td>\n",
       "    </tr>\n",
       "    <tr>\n",
       "      <th>3</th>\n",
       "      <td>business</td>\n",
       "      <td>Kent's Atta maker ad says 'maid's hands may be...</td>\n",
       "      <td>Pragya Swastik</td>\n",
       "      <td>Kent RO Systems withdrew an advertisement for ...</td>\n",
       "    </tr>\n",
       "    <tr>\n",
       "      <th>4</th>\n",
       "      <td>business</td>\n",
       "      <td>Abu Dhabi state fund in talks to invest $1 bil...</td>\n",
       "      <td>Anushka Dixit</td>\n",
       "      <td>Abu Dhabi state fund Mubadala Investment Compa...</td>\n",
       "    </tr>\n",
       "  </tbody>\n",
       "</table>\n",
       "</div>"
      ],
      "text/plain": [
       "      topic                                              title  \\\n",
       "0  business  US firm buys Serum Institute parent's Czech un...   \n",
       "1  business  Microsoft in talks to buy 2.5% stake in Jio fo...   \n",
       "2  business  Google in talks to buy 5% stake in Vodafone Id...   \n",
       "3  business  Kent's Atta maker ad says 'maid's hands may be...   \n",
       "4  business  Abu Dhabi state fund in talks to invest $1 bil...   \n",
       "\n",
       "                   author                                            content  \n",
       "0  Krishna Veera Vanamali  US biotech firm Novavax has announced it's buy...  \n",
       "1           Anushka Dixit  Microsoft is in talks with Mukesh Ambani-led R...  \n",
       "2  Krishna Veera Vanamali  Google is exploring an investment in Vodafone ...  \n",
       "3          Pragya Swastik  Kent RO Systems withdrew an advertisement for ...  \n",
       "4           Anushka Dixit  Abu Dhabi state fund Mubadala Investment Compa...  "
      ]
     },
     "execution_count": 30,
     "metadata": {},
     "output_type": "execute_result"
    }
   ],
   "source": [
    "# Test our function to read in the df from `articles.csv`\n",
    "\n",
    "df = get_news_articles(cache=False)\n",
    "df.head()"
   ]
  },
  {
   "cell_type": "code",
   "execution_count": null,
   "metadata": {},
   "outputs": [],
   "source": []
  }
 ],
 "metadata": {
  "kernelspec": {
   "display_name": "Python 3",
   "language": "python",
   "name": "python3"
  },
  "language_info": {
   "codemirror_mode": {
    "name": "ipython",
    "version": 3
   },
   "file_extension": ".py",
   "mimetype": "text/x-python",
   "name": "python",
   "nbconvert_exporter": "python",
   "pygments_lexer": "ipython3",
   "version": "3.7.4"
  }
 },
 "nbformat": 4,
 "nbformat_minor": 2
}
